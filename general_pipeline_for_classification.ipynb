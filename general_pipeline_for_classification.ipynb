{
  "cells": [
    {
      "cell_type": "markdown",
      "metadata": {
        "id": "CZ3mlKjRgcT3"
      },
      "source": [
        "# $Universidade$ $Federal$ $de$ $Viçosa$ $(UFV)$ - Campus Viçosa\n",
        "\n",
        "### Trabalho Final\n",
        "\n",
        "**Alunos:** Erick Lima Figueiredo, Guilherme Oliveira Fonseca e Renan Lopes |\n",
        "**MA:** 98898, 98889 e 97370\n",
        "\n",
        "**Professor:** Lucas Nascimento Ferreira\n",
        "\n",
        "**Disciplina:** Aprendizado em Redes Neurais Profundas (INF 721)\n"
      ]
    },
    {
      "cell_type": "markdown",
      "metadata": {
        "id": "amQm5LaGLTI-"
      },
      "source": [
        "## Dataset: A neural network for classifying image data of natural scenes from around the world"
      ]
    },
    {
      "cell_type": "markdown",
      "metadata": {
        "id": "jYbyVo1HLYAd"
      },
      "source": [
        "**Source Dataset:** https://www.kaggle.com/datasets/puneet6060/intel-image-classification/data, https://www.kaggle.com/datasets/mahmoudreda55/satellite-image-classification/data\n",
        "\n",
        "**Dataset Google Drive** https://drive.google.com/drive/folders/1hm0LIi2OD2-CirIbJa3E_4Rg9zyPuJoL?usp=sharing\n",
        "\n",
        "**Code Repo:** https://github.com/renaops/IntelImageClassificationNN\n",
        "\n",
        "**Google Colab:** https://colab.research.google.com/drive/1OSpWIk_VxjrZIXt47-DgpX5XCvpKjVMk\n"
      ]
    },
    {
      "cell_type": "markdown",
      "metadata": {
        "id": "1lnjuICXe1U7"
      },
      "source": [
        "### 1. Importing Libraries"
      ]
    },
    {
      "cell_type": "code",
      "execution_count": 37,
      "metadata": {
        "id": "Am0kcNoYe4Rt"
      },
      "outputs": [
        {
          "name": "stdout",
          "output_type": "stream",
          "text": [
            "Você está fora do google colab!\n"
          ]
        }
      ],
      "source": [
        "import os\n",
        "import time\n",
        "import math\n",
        "import pandas as pd\n",
        "from sklearn.metrics import confusion_matrix\n",
        "\n",
        "import torch\n",
        "import torch.nn as nn\n",
        "import torch.optim as optim\n",
        "import torchvision.transforms as transforms\n",
        "import torch.nn.functional as F\n",
        "from torchvision.io import read_image\n",
        "from torch.utils.data import Dataset, DataLoader\n",
        "from torchvision.transforms import v2 as transforms_v2\n",
        "\n",
        "import seaborn as sns\n",
        "import matplotlib.pyplot as plt\n",
        "\n",
        "drive = None\n",
        "try:\n",
        "    from google.colab import drive\n",
        "except Exception as e:\n",
        "    print('Você está fora do google colab!')\n",
        "\n",
        "%matplotlib inline\n"
      ]
    },
    {
      "cell_type": "code",
      "execution_count": 2,
      "metadata": {
        "colab": {
          "base_uri": "https://localhost:8080/",
          "height": 35
        },
        "id": "yBNidlDuhhEF",
        "outputId": "38367579-6249-42b3-d0f5-3b758a62d1cf"
      },
      "outputs": [
        {
          "data": {
            "text/plain": [
              "'Pytorch está usando o CUDA!'"
            ]
          },
          "execution_count": 2,
          "metadata": {},
          "output_type": "execute_result"
        }
      ],
      "source": [
        "USING_CUDA = torch.cuda.is_available()\n",
        "\n",
        "f'Pytorch {\"\" if USING_CUDA else \"não \"}está usando o CUDA!'"
      ]
    },
    {
      "cell_type": "code",
      "execution_count": 3,
      "metadata": {
        "colab": {
          "base_uri": "https://localhost:8080/"
        },
        "id": "RsrjSzfte0lV",
        "outputId": "1d51c664-b5d6-4ac5-b12f-b9a444c34109"
      },
      "outputs": [
        {
          "name": "stdout",
          "output_type": "stream",
          "text": [
            "nvcc: NVIDIA (R) Cuda compiler driver\n",
            "Copyright (c) 2005-2022 NVIDIA Corporation\n",
            "Built on Wed_Sep_21_10:33:58_PDT_2022\n",
            "Cuda compilation tools, release 11.8, V11.8.89\n",
            "Build cuda_11.8.r11.8/compiler.31833905_0\n"
          ]
        }
      ],
      "source": [
        "!nvcc --version"
      ]
    },
    {
      "cell_type": "markdown",
      "metadata": {
        "id": "GK0gEJuJfYMw"
      },
      "source": [
        "### 2. Dataset Loading"
      ]
    },
    {
      "cell_type": "code",
      "execution_count": 4,
      "metadata": {
        "id": "_noWw7f1ELkz"
      },
      "outputs": [],
      "source": [
        "def get_content_from_partition(partition, data_path):\n",
        "  partition_data = []\n",
        "  for clazz in os.listdir(os.path.join(data_path, partition)):\n",
        "    for img in os.listdir(os.path.join(data_path, partition, clazz)):\n",
        "      if img.endswith('.jpg') or img.endswith('.png'):\n",
        "        partition_data.append({'class': clazz, 'img': os.path.join(data_path, partition, clazz, img)})\n",
        "\n",
        "  return partition_data"
      ]
    },
    {
      "cell_type": "code",
      "execution_count": 5,
      "metadata": {
        "colab": {
          "base_uri": "https://localhost:8080/"
        },
        "id": "fuyK1BiGMqAw",
        "outputId": "43af635c-aaea-44af-9083-42d4ece0dfc5"
      },
      "outputs": [
        {
          "name": "stdout",
          "output_type": "stream",
          "text": [
            "Available partitions: test, train, validation.\n"
          ]
        }
      ],
      "source": [
        "if drive:\n",
        "    drive.mount('/content/drive', force_remount=True)\n",
        "    data_path = '/content/drive/Shareddrives/Deep Learning'\n",
        "else:\n",
        "    data_path = './'\n",
        "\n",
        "data_path += 'data'\n",
        "print(f'Available partitions: {\", \".join(os.listdir(data_path))}.')"
      ]
    },
    {
      "cell_type": "code",
      "execution_count": 6,
      "metadata": {
        "id": "I90aebBrCVSm"
      },
      "outputs": [],
      "source": [
        "train_df = pd.DataFrame(get_content_from_partition('train', data_path))\n",
        "val_df = pd.DataFrame(get_content_from_partition('validation', data_path))\n",
        "test_df = pd.DataFrame(get_content_from_partition('test', data_path))"
      ]
    },
    {
      "cell_type": "code",
      "execution_count": 7,
      "metadata": {},
      "outputs": [
        {
          "data": {
            "text/html": [
              "<div>\n",
              "<style scoped>\n",
              "    .dataframe tbody tr th:only-of-type {\n",
              "        vertical-align: middle;\n",
              "    }\n",
              "\n",
              "    .dataframe tbody tr th {\n",
              "        vertical-align: top;\n",
              "    }\n",
              "\n",
              "    .dataframe thead th {\n",
              "        text-align: right;\n",
              "    }\n",
              "</style>\n",
              "<table border=\"1\" class=\"dataframe\">\n",
              "  <thead>\n",
              "    <tr style=\"text-align: right;\">\n",
              "      <th></th>\n",
              "      <th>class</th>\n",
              "      <th>img</th>\n",
              "    </tr>\n",
              "  </thead>\n",
              "  <tbody>\n",
              "    <tr>\n",
              "      <th>0</th>\n",
              "      <td>cloudy</td>\n",
              "      <td>./data/train/cloudy/train_17406.jpg</td>\n",
              "    </tr>\n",
              "    <tr>\n",
              "      <th>1</th>\n",
              "      <td>cloudy</td>\n",
              "      <td>./data/train/cloudy/train_17504.jpg</td>\n",
              "    </tr>\n",
              "    <tr>\n",
              "      <th>2</th>\n",
              "      <td>cloudy</td>\n",
              "      <td>./data/train/cloudy/train_17505.jpg</td>\n",
              "    </tr>\n",
              "    <tr>\n",
              "      <th>3</th>\n",
              "      <td>cloudy</td>\n",
              "      <td>./data/train/cloudy/train_17513.jpg</td>\n",
              "    </tr>\n",
              "    <tr>\n",
              "      <th>4</th>\n",
              "      <td>cloudy</td>\n",
              "      <td>./data/train/cloudy/train_17549.jpg</td>\n",
              "    </tr>\n",
              "    <tr>\n",
              "      <th>...</th>\n",
              "      <td>...</td>\n",
              "      <td>...</td>\n",
              "    </tr>\n",
              "    <tr>\n",
              "      <th>3195</th>\n",
              "      <td>water</td>\n",
              "      <td>./data/train/water/SeaLake_2989.jpg</td>\n",
              "    </tr>\n",
              "    <tr>\n",
              "      <th>3196</th>\n",
              "      <td>water</td>\n",
              "      <td>./data/train/water/SeaLake_2990.jpg</td>\n",
              "    </tr>\n",
              "    <tr>\n",
              "      <th>3197</th>\n",
              "      <td>water</td>\n",
              "      <td>./data/train/water/SeaLake_2995.jpg</td>\n",
              "    </tr>\n",
              "    <tr>\n",
              "      <th>3198</th>\n",
              "      <td>water</td>\n",
              "      <td>./data/train/water/SeaLake_2999.jpg</td>\n",
              "    </tr>\n",
              "    <tr>\n",
              "      <th>3199</th>\n",
              "      <td>water</td>\n",
              "      <td>./data/train/water/SeaLake_3000.jpg</td>\n",
              "    </tr>\n",
              "  </tbody>\n",
              "</table>\n",
              "<p>3200 rows × 2 columns</p>\n",
              "</div>"
            ],
            "text/plain": [
              "       class                                  img\n",
              "0     cloudy  ./data/train/cloudy/train_17406.jpg\n",
              "1     cloudy  ./data/train/cloudy/train_17504.jpg\n",
              "2     cloudy  ./data/train/cloudy/train_17505.jpg\n",
              "3     cloudy  ./data/train/cloudy/train_17513.jpg\n",
              "4     cloudy  ./data/train/cloudy/train_17549.jpg\n",
              "...      ...                                  ...\n",
              "3195   water  ./data/train/water/SeaLake_2989.jpg\n",
              "3196   water  ./data/train/water/SeaLake_2990.jpg\n",
              "3197   water  ./data/train/water/SeaLake_2995.jpg\n",
              "3198   water  ./data/train/water/SeaLake_2999.jpg\n",
              "3199   water  ./data/train/water/SeaLake_3000.jpg\n",
              "\n",
              "[3200 rows x 2 columns]"
            ]
          },
          "execution_count": 7,
          "metadata": {},
          "output_type": "execute_result"
        }
      ],
      "source": [
        "train_df[train_df['img'].str.contains('.jpg')]"
      ]
    },
    {
      "cell_type": "code",
      "execution_count": 8,
      "metadata": {
        "colab": {
          "base_uri": "https://localhost:8080/"
        },
        "id": "BhHmNM8eD9B9",
        "outputId": "dce4a18f-bb47-47f2-d32c-995debf32e45"
      },
      "outputs": [
        {
          "name": "stdout",
          "output_type": "stream",
          "text": [
            "> Train size: 3200\n",
            "\n",
            "> Val size: 1000\n",
            "\n",
            "> Test size: 1431\n"
          ]
        }
      ],
      "source": [
        "print(f'> Train size: {len(train_df)}\\n\\n> Val size: {len(val_df)}\\n\\n> Test size: {len(test_df)}')"
      ]
    },
    {
      "cell_type": "code",
      "execution_count": 9,
      "metadata": {
        "colab": {
          "base_uri": "https://localhost:8080/",
          "height": 489
        },
        "id": "NW0b1FfgFR0R",
        "outputId": "8fd34a2f-8646-4f39-fade-60c8ec508a74"
      },
      "outputs": [
        {
          "data": {
            "text/plain": [
              "[Text(0.5, 1.0, 'Train Class Distribution')]"
            ]
          },
          "execution_count": 9,
          "metadata": {},
          "output_type": "execute_result"
        },
        {
          "data": {
            "image/png": "[encoded data removed]",
            "text/plain": [
              "<Figure size 640x480 with 1 Axes>"
            ]
          },
          "metadata": {},
          "output_type": "display_data"
        }
      ],
      "source": [
        "sns.countplot(x='class', data=train_df, order=sorted(train_df['class'].unique())).set(title='Train Class Distribution')"
      ]
    },
    {
      "cell_type": "code",
      "execution_count": 10,
      "metadata": {
        "colab": {
          "base_uri": "https://localhost:8080/",
          "height": 489
        },
        "id": "VyccS0l_Fjom",
        "outputId": "90411109-2a4d-4a10-d4c3-2fae077b3b1a"
      },
      "outputs": [
        {
          "data": {
            "text/plain": [
              "[Text(0.5, 1.0, 'Validation Class Distribution')]"
            ]
          },
          "execution_count": 10,
          "metadata": {},
          "output_type": "execute_result"
        },
        {
          "data": {
            "image/png": "[encoded data removed]",
            "text/plain": [
              "<Figure size 640x480 with 1 Axes>"
            ]
          },
          "metadata": {},
          "output_type": "display_data"
        }
      ],
      "source": [
        "sns.countplot(x='class', data=val_df, order=sorted(val_df['class'].unique())).set(title='Validation Class Distribution')"
      ]
    },
    {
      "cell_type": "code",
      "execution_count": 11,
      "metadata": {
        "colab": {
          "base_uri": "https://localhost:8080/",
          "height": 489
        },
        "id": "EI3-Vg4eF7c9",
        "outputId": "482ba612-e814-4ab5-8f43-de52e7ff587a"
      },
      "outputs": [
        {
          "data": {
            "text/plain": [
              "[Text(0.5, 1.0, 'Test Class Distribution')]"
            ]
          },
          "execution_count": 11,
          "metadata": {},
          "output_type": "execute_result"
        },
        {
          "data": {
            "image/png": "[encoded data removed]",
            "text/plain": [
              "<Figure size 640x480 with 1 Axes>"
            ]
          },
          "metadata": {},
          "output_type": "display_data"
        }
      ],
      "source": [
        "sns.countplot(x='class', data=test_df, order=sorted(test_df['class'].unique())).set(title='Test Class Distribution')"
      ]
    },
    {
      "cell_type": "markdown",
      "metadata": {
        "id": "cwaj8Q-5fuD5"
      },
      "source": [
        "### 3. Preprocessing and Augmentation"
      ]
    },
    {
      "cell_type": "code",
      "execution_count": 12,
      "metadata": {
        "id": "GcTvWo0tOse3"
      },
      "outputs": [],
      "source": [
        "class EnvironmentsDataset(Dataset):\n",
        "  def __init__(self, df, transform=None, target_name='class', shuffle=True):\n",
        "    self._data = self._shuffle(df) if shuffle else df\n",
        "    self._transform = transform\n",
        "    self._class_names = list(self.data[target_name].unique())\n",
        "\n",
        "  @property\n",
        "  def class_names(self):\n",
        "    return self._class_names\n",
        "\n",
        "  @property\n",
        "  def data(self):\n",
        "    return self._data\n",
        "\n",
        "  def __len__(self):\n",
        "    return len(self.data)\n",
        "\n",
        "  def __getitem__(self, idx):\n",
        "    img = read_image(self._data.loc[idx, 'img'])[:3, :, :]\n",
        "    \n",
        "    label = self._class_names.index(self._data.loc[idx, 'class'])\n",
        "\n",
        "    if self._transform:\n",
        "      img = self._transform(img)\n",
        "\n",
        "    return img, label\n",
        "\n",
        "  def _shuffle(self, df):\n",
        "    return df.sample(frac=1).reset_index(drop=True)"
      ]
    },
    {
      "cell_type": "code",
      "execution_count": 13,
      "metadata": {
        "id": "YOJQQEe4TiPl"
      },
      "outputs": [],
      "source": [
        "transfs = transforms_v2.Compose([\n",
        "    transforms_v2.ToDtype(torch.float32, scale=True),\n",
        "    transforms.Resize(size=(224, 224), antialias=True),\n",
        "    transforms_v2.RandomRotation(degrees=(-45, 45)),\n",
        "    transforms_v2.RandomHorizontalFlip(p=0.5),\n",
        "])\n"
      ]
    },
    {
      "cell_type": "code",
      "execution_count": 14,
      "metadata": {
        "id": "tCATu3F7K00W"
      },
      "outputs": [],
      "source": [
        "train_dataset = EnvironmentsDataset(train_df, transform=transfs)\n",
        "val_dataset = EnvironmentsDataset(val_df, transform=transfs)\n",
        "test_dataset = EnvironmentsDataset(test_df, transform=transfs)"
      ]
    },
    {
      "cell_type": "code",
      "execution_count": 15,
      "metadata": {
        "colab": {
          "base_uri": "https://localhost:8080/",
          "height": 276
        },
        "id": "A-Ww3PZjbWlW",
        "outputId": "02266ca8-df92-4777-ab86-c2c77268d8d0"
      },
      "outputs": [
        {
          "name": "stdout",
          "output_type": "stream",
          "text": [
            "This is a water\n",
            "\n"
          ]
        },
        {
          "data": {
            "image/jpeg": "[encoded data removed]",
            "image/png": "[encoded data removed]",
            "text/plain": [
              "<PIL.Image.Image image mode=RGB size=224x224>"
            ]
          },
          "execution_count": 15,
          "metadata": {},
          "output_type": "execute_result"
        }
      ],
      "source": [
        "# Para visualizar a imagem normal, comente a ultima linha do Transformer Compose\n",
        "print('This is a ' + train_dataset.class_names[train_dataset[0][1]], end='\\n\\n')\n",
        "transforms.ToPILImage()(train_dataset[0][0])"
      ]
    },
    {
      "cell_type": "markdown",
      "metadata": {
        "id": "3UhZF7wCgCA7"
      },
      "source": [
        "# 4. Model Architecture and Training"
      ]
    },
    {
      "cell_type": "code",
      "execution_count": 39,
      "metadata": {
        "id": "DtfmOBprLvya"
      },
      "outputs": [],
      "source": [
        "BATCH_SIZE = 32\n",
        "NUM_EPOCHS = 50\n",
        "NUM_CLASSES = len(train_dataset.class_names)\n",
        "MODEL_SAVE_PATH = './models'\n",
        "MODEL_NAME = 'satellite_vision'"
      ]
    },
    {
      "cell_type": "code",
      "execution_count": 38,
      "metadata": {
        "id": "hc5tCPVegeYH"
      },
      "outputs": [],
      "source": [
        "train_loader = DataLoader(train_dataset, batch_size=BATCH_SIZE, shuffle=True, num_workers=4)\n",
        "val_loader = DataLoader(val_dataset, batch_size=BATCH_SIZE, shuffle=False, num_workers=4)\n",
        "test_loader = DataLoader(test_dataset, batch_size=BATCH_SIZE, shuffle=False)"
      ]
    },
    {
      "cell_type": "code",
      "execution_count": 18,
      "metadata": {
        "id": "ey1K-vB0ISf8"
      },
      "outputs": [],
      "source": [
        "class EnvClassificationNet(nn.Module):\n",
        "    def __init__(self, num_classes):\n",
        "      super(EnvClassificationNet, self).__init__()\n",
        "\n",
        "      self.pool = nn.MaxPool2d((2, 2))\n",
        "\n",
        "      self.conv1 = nn.Conv2d(3, 32, 3)\n",
        "      self.batch1 = nn.BatchNorm2d(32)\n",
        "      self.conv2 = nn.Conv2d(32, 32, 3)\n",
        "      self.batch2 = nn.BatchNorm2d(32)\n",
        "      self.dropout1 = nn.Dropout(.3)\n",
        "\n",
        "      self.conv3 = nn.Conv2d(32, 64, 3)\n",
        "      self.batch3 = nn.BatchNorm2d(64)\n",
        "      self.conv4 = nn.Conv2d(64, 64, 3)\n",
        "      self.batch4 = nn.BatchNorm2d(64)\n",
        "      self.dropout2 = nn.Dropout(.5)\n",
        "\n",
        "      self.conv5 = nn.Conv2d(64, 128, 3)\n",
        "      self.batch5 = nn.BatchNorm2d(128)\n",
        "      self.conv6 = nn.Conv2d(128, 128, 3)\n",
        "      self.batch6 = nn.BatchNorm2d(128)\n",
        "      self.dropout3 = nn.Dropout(.5)\n",
        "\n",
        "      self.fc1 = nn.Linear(128 * 24 * 24, 128)\n",
        "      self.batch7 = nn.BatchNorm1d(128)\n",
        "      self.dropout4 = nn.Dropout(.5)\n",
        "      self.out = nn.Linear(128, num_classes)\n",
        "\n",
        "    def forward(self, x):\n",
        "      x = F.relu(self.conv1(x))\n",
        "      x = self.batch1(x)\n",
        "      x = F.relu(self.conv2(x))\n",
        "      x = self.batch2(x)\n",
        "      x = self.pool(x)\n",
        "      x = self.dropout1(x)\n",
        "\n",
        "      x = F.relu(self.conv3(x))\n",
        "      x = self.batch3(x)\n",
        "      x = F.relu(self.conv4(x))\n",
        "      x = self.batch4(x)\n",
        "      x = self.pool(x)\n",
        "      x = self.dropout2(x)\n",
        "\n",
        "      x = F.relu(self.conv5(x))\n",
        "      x = self.batch5(x)\n",
        "      x = F.relu(self.conv6(x))\n",
        "      x = self.batch6(x)\n",
        "      x = self.pool(x)\n",
        "      x = self.dropout3(x)\n",
        "\n",
        "      x = x.view(-1, 128 * 24 * 24)\n",
        "\n",
        "      x = F.relu(self.fc1(x))\n",
        "      x = self.batch7(x)\n",
        "      x = self.dropout4(x)\n",
        "      x = self.out(x)\n",
        "\n",
        "      return x\n"
      ]
    },
    {
      "cell_type": "code",
      "execution_count": 19,
      "metadata": {
        "id": "2G3P2_LbzR60"
      },
      "outputs": [],
      "source": [
        "def calc_val_loss(model, dataloader, loss_function):\n",
        "  with torch.no_grad():\n",
        "    total = .0\n",
        "    for batch in dataloader:\n",
        "      imgs, labels = batch\n",
        "\n",
        "      if USING_CUDA:  \n",
        "          imgs = imgs.to('cuda')\n",
        "          labels = labels.to('cuda')\n",
        "\n",
        "      total += loss_function(model(imgs), labels).item()\n",
        "\n",
        "    return total / len(dataloader)"
      ]
    },
    {
      "cell_type": "code",
      "execution_count": 20,
      "metadata": {
        "id": "jn83p9NXhTat"
      },
      "outputs": [],
      "source": [
        "def format_time(seconds):\n",
        "    if seconds < 60:\n",
        "        return f'{seconds:.2f}s'\n",
        "    else:\n",
        "        m, s = divmod(seconds, 60)\n",
        "        h, m = divmod(m, 60)\n",
        "        \n",
        "        return f'{int(m)}m{s:.2f}s' if h <= 0 else f'{h}h{int(m)}m{s:.2f}s'\n"
      ]
    },
    {
      "cell_type": "code",
      "execution_count": 27,
      "metadata": {},
      "outputs": [],
      "source": [
        "def plot_learning_curve(train_losses, val_losses, num_epochs, size=(8, 5)):\n",
        "    plt.figure(figsize=size)\n",
        "    plt.plot(range(1, num_epochs + 1), train_losses, marker='o', linestyle='-', color='#ff5a7d')\n",
        "    plt.plot(range(1, num_epochs + 1), val_losses, marker='x', linestyle='-', color='#ff9e00')\n",
        "\n",
        "    plt.title('Learning Curve')\n",
        "    plt.xlabel('Epochs')\n",
        "    plt.ylabel('Average Loss')\n",
        "    plt.show()"
      ]
    },
    {
      "cell_type": "code",
      "execution_count": 21,
      "metadata": {
        "id": "F5u4_NVHKeKB"
      },
      "outputs": [],
      "source": [
        "model = EnvClassificationNet(NUM_CLASSES)\n",
        "\n",
        "if USING_CUDA:\n",
        "    model.cuda()"
      ]
    },
    {
      "cell_type": "code",
      "execution_count": 22,
      "metadata": {
        "id": "Ug-Hu4CrqIBB"
      },
      "outputs": [],
      "source": [
        "loss_func = nn.CrossEntropyLoss()\n",
        "optimizer = optim.Adam(model.parameters(), lr=1e-3)"
      ]
    },
    {
      "cell_type": "code",
      "execution_count": 23,
      "metadata": {},
      "outputs": [],
      "source": [
        "def optimize(model, train_loader, val_loader, loss_func, optimizer, num_epochs, output_path):\n",
        "  train_losses = []\n",
        "  val_losses = []\n",
        "\n",
        "  for epoch in range(1, num_epochs + 1):\n",
        "    start_time = time.time()\n",
        "    total_time = 0\n",
        "    total_loss = .0\n",
        "\n",
        "    print(f'Epoch: {epoch}/{num_epochs}')\n",
        "    for i, batch in enumerate(train_loader):\n",
        "        optimizer.zero_grad()\n",
        "        imgs, labels = batch\n",
        "\n",
        "        if USING_CUDA:  \n",
        "          imgs = imgs.to('cuda')\n",
        "          labels = labels.to('cuda')\n",
        "\n",
        "        loss = loss_func(model(imgs), labels)\n",
        "        loss.backward()\n",
        "        optimizer.step()\n",
        "\n",
        "        total_loss += loss.item()\n",
        "\n",
        "        iteration_time = time.time() - start_time\n",
        "        total_time += iteration_time\n",
        "\n",
        "        avg_iteration_time = total_time / (i + 1)\n",
        "        remaining_iterations = len(train_loader) - (i + 1)\n",
        "        remaining_time = remaining_iterations * avg_iteration_time\n",
        "\n",
        "        completion_percentage = (i + 1) / len(train_loader) * 100\n",
        "        formatted_completion_percentage = math.floor(completion_percentage / 3.333)\n",
        "\n",
        "        print(f'\\r{i+1}/{len(train_loader)} [{\"=\"*(formatted_completion_percentage)}{\".\"*(30 - formatted_completion_percentage)}] - {format_time(iteration_time)}/step - Loss: {loss:.6f} - {\"Total Time\" if i+1 == len(train_loader) else \"ETA\"}: {format_time(total_time) if i+1 == len(train_loader) else format_time(remaining_time)}', end='', flush=True)\n",
        "\n",
        "    train_losses.append(total_loss / len(train_loader))\n",
        "    val_losses.append(calc_val_loss(model, val_loader, loss_func))\n",
        "    print(f\" || Train Loss:{train_losses[-1]:.6f} - Val Loss:{val_losses[-1]:.6f}\")\n",
        "\n",
        "  print('\\nComplete! =)')\n",
        "  torch.save(model.state_dict(), output_path)\n",
        "\n",
        "  return train_losses, val_losses"
      ]
    },
    {
      "cell_type": "code",
      "execution_count": 24,
      "metadata": {
        "colab": {
          "base_uri": "https://localhost:8080/"
        },
        "id": "TR6UZeal4pZv",
        "outputId": "2a22d4b3-fbeb-4aef-ca1c-25b22c53e355"
      },
      "outputs": [
        {
          "name": "stdout",
          "output_type": "stream",
          "text": [
            "Epoch: 1/50\n",
            "100/100 [==============================] - 11.39s/step - Loss: 0.574007 - Total Time: 9m59.03s || Train Loss:0.434421 - Val Loss:5.598494\n",
            "Epoch: 2/50\n",
            "100/100 [==============================] - 11.03s/step - Loss: 0.192472 - Total Time: 9m34.14s || Train Loss:0.351961 - Val Loss:6.041498\n",
            "Epoch: 3/50\n",
            "100/100 [==============================] - 11.07s/step - Loss: 0.256732 - Total Time: 9m31.24s || Train Loss:0.347413 - Val Loss:6.331857\n",
            "Epoch: 4/50\n",
            "100/100 [==============================] - 10.99s/step - Loss: 0.161752 - Total Time: 9m26.99s || Train Loss:0.288813 - Val Loss:6.764087\n",
            "Epoch: 5/50\n",
            "100/100 [==============================] - 11.06s/step - Loss: 0.119959 - Total Time: 9m33.69s || Train Loss:0.294848 - Val Loss:6.570478\n",
            "Epoch: 6/50\n",
            "100/100 [==============================] - 11.29s/step - Loss: 0.237367 - Total Time: 9m47.75s || Train Loss:0.303377 - Val Loss:6.568179\n",
            "Epoch: 7/50\n",
            "100/100 [==============================] - 11.15s/step - Loss: 0.082453 - Total Time: 9m36.08s || Train Loss:0.256922 - Val Loss:6.756079\n",
            "Epoch: 8/50\n",
            "100/100 [==============================] - 11.01s/step - Loss: 0.285441 - Total Time: 9m32.65s || Train Loss:0.265026 - Val Loss:6.962727\n",
            "Epoch: 9/50\n",
            "100/100 [==============================] - 11.56s/step - Loss: 0.221220 - Total Time: 10m4.92s || Train Loss:0.283651 - Val Loss:6.935344\n",
            "Epoch: 10/50\n",
            "100/100 [==============================] - 11.52s/step - Loss: 0.550633 - Total Time: 9m48.24s || Train Loss:0.275030 - Val Loss:6.626582\n",
            "Epoch: 11/50\n",
            "100/100 [==============================] - 11.70s/step - Loss: 0.341916 - Total Time: 10m2.03s || Train Loss:0.257196 - Val Loss:7.144707\n",
            "Epoch: 12/50\n",
            "100/100 [==============================] - 11.35s/step - Loss: 0.179806 - Total Time: 9m48.24s || Train Loss:0.258446 - Val Loss:7.208519\n",
            "Epoch: 13/50\n",
            "100/100 [==============================] - 11.57s/step - Loss: 0.268975 - Total Time: 10m0.43s || Train Loss:0.229402 - Val Loss:7.751485\n",
            "Epoch: 14/50\n",
            "100/100 [==============================] - 11.68s/step - Loss: 0.169553 - Total Time: 10m5.48s || Train Loss:0.265243 - Val Loss:7.712062\n",
            "Epoch: 15/50\n",
            "100/100 [==============================] - 11.52s/step - Loss: 0.459028 - Total Time: 9m46.49s || Train Loss:0.252873 - Val Loss:7.192386\n",
            "Epoch: 16/50\n",
            "100/100 [==============================] - 11.57s/step - Loss: 0.144299 - Total Time: 10m8.20s || Train Loss:0.234390 - Val Loss:7.248245\n",
            "Epoch: 17/50\n",
            "100/100 [==============================] - 11.02s/step - Loss: 0.182274 - Total Time: 9m29.83s || Train Loss:0.249112 - Val Loss:7.374428\n",
            "Epoch: 18/50\n",
            "100/100 [==============================] - 11.40s/step - Loss: 0.077261 - Total Time: 9m47.08s || Train Loss:0.213297 - Val Loss:8.309532\n",
            "Epoch: 19/50\n",
            "100/100 [==============================] - 11.55s/step - Loss: 0.146407 - Total Time: 9m53.08s || Train Loss:0.230634 - Val Loss:7.483496\n",
            "Epoch: 20/50\n",
            "100/100 [==============================] - 11.64s/step - Loss: 0.238601 - Total Time: 10m4.22s || Train Loss:0.213904 - Val Loss:7.497625\n",
            "Epoch: 21/50\n",
            "100/100 [==============================] - 11.20s/step - Loss: 0.114356 - Total Time: 9m43.54s || Train Loss:0.216968 - Val Loss:8.137750\n",
            "Epoch: 22/50\n",
            "100/100 [==============================] - 11.47s/step - Loss: 0.244358 - Total Time: 9m44.64s || Train Loss:0.206737 - Val Loss:8.118012\n",
            "Epoch: 23/50\n",
            "100/100 [==============================] - 11.40s/step - Loss: 0.167340 - Total Time: 9m46.43s || Train Loss:0.232117 - Val Loss:8.165419\n",
            "Epoch: 24/50\n",
            "100/100 [==============================] - 11.52s/step - Loss: 0.567731 - Total Time: 9m51.36s || Train Loss:0.213299 - Val Loss:8.060823\n",
            "Epoch: 25/50\n",
            "100/100 [==============================] - 11.39s/step - Loss: 0.160890 - Total Time: 9m48.75s || Train Loss:0.208667 - Val Loss:8.046395\n",
            "Epoch: 26/50\n",
            "100/100 [==============================] - 11.40s/step - Loss: 0.162307 - Total Time: 9m50.62s || Train Loss:0.255263 - Val Loss:7.738616\n",
            "Epoch: 27/50\n",
            "100/100 [==============================] - 12.12s/step - Loss: 0.112981 - Total Time: 10m41.84s || Train Loss:0.209787 - Val Loss:8.134197\n",
            "Epoch: 28/50\n",
            "100/100 [==============================] - 11.91s/step - Loss: 0.163578 - Total Time: 10m9.86s || Train Loss:0.200337 - Val Loss:8.080302\n",
            "Epoch: 29/50\n",
            "100/100 [==============================] - 11.99s/step - Loss: 0.122925 - Total Time: 10m29.68s || Train Loss:0.207519 - Val Loss:8.555044\n",
            "Epoch: 30/50\n",
            "100/100 [==============================] - 11.23s/step - Loss: 0.291286 - Total Time: 9m37.34s || Train Loss:0.209047 - Val Loss:7.945604\n",
            "Epoch: 31/50\n",
            "100/100 [==============================] - 11.27s/step - Loss: 0.161556 - Total Time: 9m43.98s || Train Loss:0.197512 - Val Loss:8.454220\n",
            "Epoch: 32/50\n",
            "100/100 [==============================] - 11.70s/step - Loss: 0.194548 - Total Time: 9m58.16s || Train Loss:0.204946 - Val Loss:8.246432\n",
            "Epoch: 33/50\n",
            "100/100 [==============================] - 11.59s/step - Loss: 0.234523 - Total Time: 9m57.46s || Train Loss:0.194742 - Val Loss:8.543921\n",
            "Epoch: 34/50\n",
            "100/100 [==============================] - 11.89s/step - Loss: 0.183248 - Total Time: 10m29.48s || Train Loss:0.203245 - Val Loss:8.119076\n",
            "Epoch: 35/50\n",
            "100/100 [==============================] - 11.20s/step - Loss: 0.170653 - Total Time: 9m40.45s || Train Loss:0.202387 - Val Loss:8.765427\n",
            "Epoch: 36/50\n",
            "100/100 [==============================] - 11.18s/step - Loss: 0.145795 - Total Time: 9m38.04s || Train Loss:0.179968 - Val Loss:8.585477\n",
            "Epoch: 37/50\n",
            "100/100 [==============================] - 11.11s/step - Loss: 0.096865 - Total Time: 9m32.25s || Train Loss:0.198644 - Val Loss:8.954550\n",
            "Epoch: 38/50\n",
            "100/100 [==============================] - 11.33s/step - Loss: 0.230281 - Total Time: 9m53.42s || Train Loss:0.168481 - Val Loss:8.862330\n",
            "Epoch: 39/50\n",
            "100/100 [==============================] - 12.22s/step - Loss: 0.045654 - Total Time: 10m6.58s || Train Loss:0.192739 - Val Loss:8.267781\n",
            "Epoch: 40/50\n",
            "100/100 [==============================] - 11.51s/step - Loss: 0.142878 - Total Time: 9m48.12s || Train Loss:0.206858 - Val Loss:9.069139\n",
            "Epoch: 41/50\n",
            "100/100 [==============================] - 11.63s/step - Loss: 0.227971 - Total Time: 10m11.08s || Train Loss:0.174594 - Val Loss:8.923058\n",
            "Epoch: 42/50\n",
            "100/100 [==============================] - 11.61s/step - Loss: 0.089398 - Total Time: 10m0.99s || Train Loss:0.184870 - Val Loss:9.285364\n",
            "Epoch: 43/50\n",
            "100/100 [==============================] - 11.41s/step - Loss: 0.255597 - Total Time: 9m46.28s || Train Loss:0.177918 - Val Loss:9.026766\n",
            "Epoch: 44/50\n",
            "100/100 [==============================] - 12.07s/step - Loss: 0.160846 - Total Time: 10m34.65s || Train Loss:0.184462 - Val Loss:8.647528\n",
            "Epoch: 45/50\n",
            "100/100 [==============================] - 12.41s/step - Loss: 0.139290 - Total Time: 10m40.99s || Train Loss:0.193011 - Val Loss:8.817583\n",
            "Epoch: 46/50\n",
            "100/100 [==============================] - 11.61s/step - Loss: 0.075538 - Total Time: 10m1.00s || Train Loss:0.186699 - Val Loss:8.761854\n",
            "Epoch: 47/50\n",
            "100/100 [==============================] - 11.82s/step - Loss: 0.193629 - Total Time: 10m11.71s || Train Loss:0.201489 - Val Loss:9.162677\n",
            "Epoch: 48/50\n",
            "100/100 [==============================] - 12.02s/step - Loss: 0.161580 - Total Time: 10m34.30s || Train Loss:0.171308 - Val Loss:9.239917\n",
            "Epoch: 49/50\n",
            "100/100 [==============================] - 11.36s/step - Loss: 0.412842 - Total Time: 9m45.47s || Train Loss:0.180663 - Val Loss:8.626515\n",
            "Epoch: 50/50\n",
            "100/100 [==============================] - 13.32s/step - Loss: 0.137081 - Total Time: 11m1.24s || Train Loss:0.198936 - Val Loss:8.554772\n",
            "\n",
            "Complete! =)\n"
          ]
        }
      ],
      "source": [
        "train_losses, val_losses = optimize(model, train_loader, val_loader, loss_func, optimizer, NUM_EPOCHS, os.path.join(MODEL_SAVE_PATH, MODEL_NAME + '.pth'))"
      ]
    },
    {
      "cell_type": "markdown",
      "metadata": {
        "id": "q7IJPTjqgIiI"
      },
      "source": [
        "### 5. Model Evaluation"
      ]
    },
    {
      "cell_type": "code",
      "execution_count": 28,
      "metadata": {
        "id": "Nnvoe21hodDk"
      },
      "outputs": [
        {
          "data": {
            "image/png": "[encoded data removed]",
            "text/plain": [
              "<Figure size 800x500 with 1 Axes>"
            ]
          },
          "metadata": {},
          "output_type": "display_data"
        }
      ],
      "source": [
        "plot_learning_curve(train_losses, val_losses, NUM_EPOCHS)"
      ]
    },
    {
      "cell_type": "code",
      "execution_count": 36,
      "metadata": {},
      "outputs": [],
      "source": [
        "def evaluate_model_accuracy(model, dataloader, num_classes):\n",
        "    model.eval()\n",
        "    all_preds = []\n",
        "    all_labels = []\n",
        "\n",
        "    with torch.no_grad():\n",
        "        for imgs, labels in dataloader:\n",
        "            if USING_CUDA:  \n",
        "                imgs = imgs.to('cuda')\n",
        "                labels = labels.to('cuda')\n",
        "\n",
        "            preds = torch.argmax(model(imgs).data, 1)\n",
        "            all_preds.extend(preds.cpu().numpy())\n",
        "            all_labels.extend(labels.cpu().numpy())\n",
        "\n",
        "    accuracy = (sum([1 for i, j in zip(all_preds, all_labels) if i == j]) / len(all_labels))\n",
        "    confusion_mat = confusion_matrix(all_labels, all_preds, labels=range(num_classes))\n",
        "\n",
        "    return accuracy, confusion_mat\n",
        "  "
      ]
    },
    {
      "cell_type": "code",
      "execution_count": 34,
      "metadata": {},
      "outputs": [
        {
          "name": "stdout",
          "output_type": "stream",
          "text": [
            "Train accuracy: 0.945\n",
            "Test accuracy: 0.050314465408805034\n"
          ]
        }
      ],
      "source": [
        "# Adicionar aqui a opção de carregar o modelo para a memória\n",
        "\n",
        "model.eval()\n",
        "\n",
        "train_accuracy, conf_mtrx_train = evaluate_model_accuracy(model, train_loader, NUM_CLASSES)\n",
        "test_accuracy, conf_mtrx_test = evaluate_model_accuracy(model, test_loader, NUM_CLASSES)\n",
        "\n",
        "print(\"Train accuracy:\", train_accuracy)\n",
        "print(\"Test accuracy:\", test_accuracy)"
      ]
    },
    {
      "cell_type": "code",
      "execution_count": null,
      "metadata": {},
      "outputs": [],
      "source": []
    }
  ],
  "metadata": {
    "accelerator": "GPU",
    "colab": {
      "provenance": []
    },
    "kernelspec": {
      "display_name": "Python 3",
      "name": "python3"
    },
    "language_info": {
      "codemirror_mode": {
        "name": "ipython",
        "version": 3
      },
      "file_extension": ".py",
      "mimetype": "text/x-python",
      "name": "python",
      "nbconvert_exporter": "python",
      "pygments_lexer": "ipython3",
      "version": "3.10.0"
    }
  },
  "nbformat": 4,
  "nbformat_minor": 0
}
