{
  "nbformat": 4,
  "nbformat_minor": 0,
  "metadata": {
    "colab": {
      "provenance": [],
      "authorship_tag": "ABX9TyOHXBJeeXr2/FgNtpoDrNtc",
      "include_colab_link": true
    },
    "kernelspec": {
      "name": "python3",
      "display_name": "Python 3"
    },
    "language_info": {
      "name": "python"
    }
  },
  "cells": [
    {
      "cell_type": "markdown",
      "metadata": {
        "id": "view-in-github",
        "colab_type": "text"
      },
      "source": [
        "<a href=\"https://colab.research.google.com/github/renaops/IntelImageClassificationNN/blob/main/IntelImageClassificationNN.ipynb\" target=\"_parent\"><img src=\"https://colab.research.google.com/assets/colab-badge.svg\" alt=\"Open In Colab\"/></a>"
      ]
    },
    {
      "cell_type": "markdown",
      "source": [
        "## A neural network for classifying image data of natural scenes from around the world"
      ],
      "metadata": {
        "id": "amQm5LaGLTI-"
      }
    },
    {
      "cell_type": "markdown",
      "source": [
        "Source Dataset: https://www.kaggle.com/datasets/puneet6060/intel-image-classification/data\n",
        "\n",
        "Code Repo: https://github.com/renaops/IntelImageClassificationNN\n",
        "\n",
        "Google Colab: https://colab.research.google.com/drive/1OSpWIk_VxjrZIXt47-DgpX5XCvpKjVMk"
      ],
      "metadata": {
        "id": "jYbyVo1HLYAd"
      }
    }
  ]
}