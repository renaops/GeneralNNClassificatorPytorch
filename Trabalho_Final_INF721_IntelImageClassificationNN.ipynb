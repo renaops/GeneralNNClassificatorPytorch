{
  "nbformat": 4,
  "nbformat_minor": 0,
  "metadata": {
    "colab": {
      "provenance": [],
      "gpuType": "T4",
      "include_colab_link": true
    },
    "kernelspec": {
      "name": "python3",
      "display_name": "Python 3"
    },
    "language_info": {
      "name": "python"
    },
    "accelerator": "GPU"
  },
  "cells": [
    {
      "cell_type": "markdown",
      "metadata": {
        "id": "view-in-github",
        "colab_type": "text"
      },
      "source": [
        "<a href=\"https://colab.research.google.com/github/renaops/IntelImageClassificationNN/blob/main/Trabalho_Final_INF721_IntelImageClassificationNN.ipynb\" target=\"_parent\"><img src=\"https://colab.research.google.com/assets/colab-badge.svg\" alt=\"Open In Colab\"/></a>"
      ]
    },
    {
      "cell_type": "markdown",
      "source": [
        "# $Universidade$ $Federal$ $de$ $Viçosa$ $(UFV)$ - Campus Viçosa\n",
        "\n",
        "### Trabalho Final\n",
        "\n",
        "**Alunos:** Erick Lima Figueiredo, Guilherme Oliveira Fonseca e Renan Lopes |\n",
        "**MA:** 98898, 98889 e 97370\n",
        "\n",
        "**Professor:** Lucas Ferreira\n",
        "\n",
        "**Disciplina:** Aprendizado em Redes Neurais Profundas (INF 721)\n"
      ],
      "metadata": {
        "id": "CZ3mlKjRgcT3"
      }
    },
    {
      "cell_type": "markdown",
      "source": [
        "## Dataset: A neural network for classifying image data of natural scenes from around the world"
      ],
      "metadata": {
        "id": "amQm5LaGLTI-"
      }
    },
    {
      "cell_type": "markdown",
      "source": [
        "**Source Dataset:** https://www.kaggle.com/datasets/puneet6060/intel-image-classification/data\n",
        "\n",
        "**Dataset Google Drive** https://drive.google.com/drive/folders/1hm0LIi2OD2-CirIbJa3E_4Rg9zyPuJoL?usp=sharing\n",
        "\n",
        "**Code Repo:** https://github.com/renaops/IntelImageClassificationNN\n",
        "\n",
        "**Google Colab:** https://colab.research.google.com/drive/1OSpWIk_VxjrZIXt47-DgpX5XCvpKjVMk\n"
      ],
      "metadata": {
        "id": "jYbyVo1HLYAd"
      }
    },
    {
      "cell_type": "markdown",
      "source": [
        "# 1. Importing Libraries"
      ],
      "metadata": {
        "id": "1lnjuICXe1U7"
      }
    },
    {
      "cell_type": "code",
      "source": [
        "# TODO: Ei você, você mesmo. Eu tenho um trabalho pra você, entenda o que foi feito até agora e encontre um dataset alternativo em caso de desastres."
      ],
      "metadata": {
        "id": "xnJMrm62XNTj"
      },
      "execution_count": 1,
      "outputs": []
    },
    {
      "cell_type": "code",
      "source": [
        "import os\n",
        "import numpy as np\n",
        "import pandas as pd\n",
        "\n",
        "import torch\n",
        "import torch.nn as nn\n",
        "import torch.optim as optim\n",
        "import torchvision.transforms as transforms\n",
        "import torch.nn.functional as F\n",
        "from torchvision.io import read_image\n",
        "from torch.utils.data import Dataset, DataLoader\n",
        "from torchvision.transforms import v2 as transforms_v2\n",
        "\n",
        "import seaborn as sns\n",
        "from google.colab import drive\n",
        "import matplotlib.pyplot as plt\n",
        "\n",
        "%matplotlib inline\n"
      ],
      "metadata": {
        "id": "Am0kcNoYe4Rt"
      },
      "execution_count": 2,
      "outputs": []
    },
    {
      "cell_type": "code",
      "source": [
        "# Example of target with class indices\n",
        "loss = nn.CrossEntropyLoss()\n",
        "input = torch.randn(3, 5, requires_grad=True)\n",
        "print(\"input\", input)\n",
        "target = torch.empty(3, dtype=torch.long).random_(5)\n",
        "print(\"target\", target)\n",
        "\n",
        "output = loss(input, target)\n",
        "output.backward()\n",
        "\n",
        "\n",
        "# Example of target with class probabilities\n",
        "# input = torch.randn(3, 5, requires_grad=True)\n",
        "# target = torch.randn(3, 5).softmax(dim=1)\n",
        "# output = loss(input, target)\n",
        "# output.backward()"
      ],
      "metadata": {
        "colab": {
          "base_uri": "https://localhost:8080/"
        },
        "id": "4IgvM8IDHa6F",
        "outputId": "f8426a01-a5c5-4dff-fdc7-c19b6a82115b"
      },
      "execution_count": 3,
      "outputs": [
        {
          "output_type": "stream",
          "name": "stdout",
          "text": [
            "input tensor([[-0.1911, -0.2970,  0.3032, -1.4833, -0.2628],\n",
            "        [ 0.4358,  0.0096, -0.0156, -0.6755, -0.9361],\n",
            "        [ 0.1109,  0.5641, -0.8442,  1.6238, -1.4445]], requires_grad=True)\n",
            "target tensor([2, 2, 4])\n"
          ]
        }
      ]
    },
    {
      "cell_type": "code",
      "source": [
        "f'Pytorch {\"\" if torch.cuda.is_available() else \"não \"}está usando o CUDA!'"
      ],
      "metadata": {
        "id": "yBNidlDuhhEF",
        "colab": {
          "base_uri": "https://localhost:8080/",
          "height": 36
        },
        "outputId": "bf1fe642-b956-4aa6-969a-3ea78f8e3f40"
      },
      "execution_count": 4,
      "outputs": [
        {
          "output_type": "execute_result",
          "data": {
            "text/plain": [
              "'Pytorch está usando o CUDA!'"
            ],
            "application/vnd.google.colaboratory.intrinsic+json": {
              "type": "string"
            }
          },
          "metadata": {},
          "execution_count": 4
        }
      ]
    },
    {
      "cell_type": "code",
      "source": [
        "!nvcc --version"
      ],
      "metadata": {
        "id": "RsrjSzfte0lV",
        "colab": {
          "base_uri": "https://localhost:8080/"
        },
        "outputId": "dbe30039-1bb4-4dc2-9d67-6a1c841fb576"
      },
      "execution_count": 5,
      "outputs": [
        {
          "output_type": "stream",
          "name": "stdout",
          "text": [
            "nvcc: NVIDIA (R) Cuda compiler driver\n",
            "Copyright (c) 2005-2022 NVIDIA Corporation\n",
            "Built on Wed_Sep_21_10:33:58_PDT_2022\n",
            "Cuda compilation tools, release 11.8, V11.8.89\n",
            "Build cuda_11.8.r11.8/compiler.31833905_0\n"
          ]
        }
      ]
    },
    {
      "cell_type": "markdown",
      "source": [
        "# 2. Dataset Loading\n",
        "\n",
        "Adicionar aqui uma análise sobre os dados e distribuição de classes"
      ],
      "metadata": {
        "id": "GK0gEJuJfYMw"
      }
    },
    {
      "cell_type": "code",
      "source": [
        "from google.colab import drive\n",
        "drive.mount('/content/drive', force_remount=True)"
      ],
      "metadata": {
        "id": "8MtHP-zLzBQG",
        "colab": {
          "base_uri": "https://localhost:8080/"
        },
        "outputId": "54e91f4e-ca60-499e-c899-7cbdcf669d38"
      },
      "execution_count": 6,
      "outputs": [
        {
          "output_type": "stream",
          "name": "stdout",
          "text": [
            "Mounted at /content/drive\n"
          ]
        }
      ]
    },
    {
      "cell_type": "code",
      "source": [
        "def get_content_from_partition(partition):\n",
        "  partition_data = []\n",
        "  for clazz in os.listdir(os.path.join(DATA_PATH, partition)):\n",
        "    for img in os.listdir(os.path.join(DATA_PATH, partition, clazz)):\n",
        "      if img.endswith('.jpg') or img.endswith('.png'):\n",
        "        partition_data.append({'class': clazz, 'img': os.path.join(DATA_PATH, partition, clazz, img)})\n",
        "\n",
        "  return partition_data"
      ],
      "metadata": {
        "id": "_noWw7f1ELkz"
      },
      "execution_count": 7,
      "outputs": []
    },
    {
      "cell_type": "code",
      "source": [
        "DATA_PATH = '/content/drive/Shareddrives/Deep Learning'\n",
        "print(f'Available partitions: {\", \".join(os.listdir(DATA_PATH))}.')"
      ],
      "metadata": {
        "id": "fuyK1BiGMqAw",
        "colab": {
          "base_uri": "https://localhost:8080/"
        },
        "outputId": "52162516-2010-41cf-8b15-9cbbb13fb8b0"
      },
      "execution_count": 8,
      "outputs": [
        {
          "output_type": "stream",
          "name": "stdout",
          "text": [
            "Available partitions: seg_pred, seg_test, seg_train.\n"
          ]
        }
      ]
    },
    {
      "cell_type": "code",
      "source": [
        "train_df = pd.DataFrame(get_content_from_partition('seg_train'))\n",
        "val_df = pd.DataFrame(get_content_from_partition('seg_test'))\n",
        "test_df = pd.DataFrame(get_content_from_partition('seg_pred'))"
      ],
      "metadata": {
        "id": "I90aebBrCVSm"
      },
      "execution_count": 9,
      "outputs": []
    },
    {
      "cell_type": "code",
      "source": [
        "print(f'> Train size: {len(train_df)}\\n\\n> Val size: {len(val_df)}\\n\\n> Test size: {len(test_df)}')"
      ],
      "metadata": {
        "id": "BhHmNM8eD9B9",
        "colab": {
          "base_uri": "https://localhost:8080/"
        },
        "outputId": "92be8f55-5005-4371-b9a2-36dbc27c3608"
      },
      "execution_count": 10,
      "outputs": [
        {
          "output_type": "stream",
          "name": "stdout",
          "text": [
            "> Train size: 14036\n",
            "\n",
            "> Val size: 3000\n",
            "\n",
            "> Test size: 7284\n"
          ]
        }
      ]
    },
    {
      "cell_type": "code",
      "source": [
        "sns.countplot(x='class', data=train_df, order=sorted(train_df['class'].unique())).set(title='Train Class Distribution')"
      ],
      "metadata": {
        "id": "NW0b1FfgFR0R",
        "colab": {
          "base_uri": "https://localhost:8080/",
          "height": 489
        },
        "outputId": "43dd6f43-c259-45a6-fd6a-1789d9727d3c"
      },
      "execution_count": 11,
      "outputs": [
        {
          "output_type": "execute_result",
          "data": {
            "text/plain": [
              "[Text(0.5, 1.0, 'Train Class Distribution')]"
            ]
          },
          "metadata": {},
          "execution_count": 11
        },
        {
          "output_type": "display_data",
          "data": {
            "text/plain": [
              "<Figure size 640x480 with 1 Axes>"
            ],
            "image/png": "[encoded data removed]"
          },
          "metadata": {}
        }
      ]
    },
    {
      "cell_type": "code",
      "source": [
        "sns.countplot(x='class', data=val_df, order=sorted(val_df['class'].unique())).set(title='Validation Class Distribution')"
      ],
      "metadata": {
        "id": "VyccS0l_Fjom",
        "colab": {
          "base_uri": "https://localhost:8080/",
          "height": 489
        },
        "outputId": "9c2c2ec6-f312-46f1-fc8a-39a115fcb672"
      },
      "execution_count": 12,
      "outputs": [
        {
          "output_type": "execute_result",
          "data": {
            "text/plain": [
              "[Text(0.5, 1.0, 'Validation Class Distribution')]"
            ]
          },
          "metadata": {},
          "execution_count": 12
        },
        {
          "output_type": "display_data",
          "data": {
            "text/plain": [
              "<Figure size 640x480 with 1 Axes>"
            ],
            "image/png": "[encoded data removed]"
          },
          "metadata": {}
        }
      ]
    },
    {
      "cell_type": "code",
      "source": [
        "sns.countplot(x='class', data=test_df, order=sorted(test_df['class'].unique())).set(title='Test Class Distribution')"
      ],
      "metadata": {
        "id": "EI3-Vg4eF7c9",
        "colab": {
          "base_uri": "https://localhost:8080/",
          "height": 489
        },
        "outputId": "ad101326-d025-44c4-cc93-8892454847f8"
      },
      "execution_count": 13,
      "outputs": [
        {
          "output_type": "execute_result",
          "data": {
            "text/plain": [
              "[Text(0.5, 1.0, 'Test Class Distribution')]"
            ]
          },
          "metadata": {},
          "execution_count": 13
        },
        {
          "output_type": "display_data",
          "data": {
            "text/plain": [
              "<Figure size 640x480 with 1 Axes>"
            ],
            "image/png": "[encoded data removed]"
          },
          "metadata": {}
        }
      ]
    },
    {
      "cell_type": "markdown",
      "source": [
        "# 3. Preprocessing and Augmentation"
      ],
      "metadata": {
        "id": "cwaj8Q-5fuD5"
      }
    },
    {
      "cell_type": "code",
      "source": [
        "class EnvironmentsDataset(Dataset):\n",
        "  def __init__(self, df, transform=None, target_name='class', shuffle=True):\n",
        "    begin_classes_idx = len(df.columns)\n",
        "\n",
        "    self._data = self._shuffle(df) if shuffle else df\n",
        "    self._transform = transform\n",
        "    self._class_names = list(self.data[target_name].unique())\n",
        "\n",
        "  @property\n",
        "  def class_names(self):\n",
        "    return self._class_names\n",
        "\n",
        "  @property\n",
        "  def data(self):\n",
        "    return self._data\n",
        "\n",
        "  def __len__(self):\n",
        "    return len(self.data)\n",
        "\n",
        "  def __getitem__(self, idx):\n",
        "    img = read_image(self._data.loc[idx, 'img'])\n",
        "    label = self._class_names.index(self._data.loc[idx, 'class'])\n",
        "\n",
        "    if self._transform:\n",
        "      img = self._transform(img)\n",
        "\n",
        "    return img, label\n",
        "\n",
        "  def _apply_one_hot_encoding(self, df, target, shuffle=True):\n",
        "    return pd.concat((df, pd.get_dummies(df[target])), axis=1)\n",
        "\n",
        "  def _shuffle(self, df):\n",
        "    return df.sample(frac=1).reset_index(drop=True)"
      ],
      "metadata": {
        "id": "GcTvWo0tOse3"
      },
      "execution_count": 14,
      "outputs": []
    },
    {
      "cell_type": "code",
      "source": [
        "# TODO: MELHORAR ESSE TRANSFORM?\n",
        "transfs = transforms_v2.Compose([\n",
        "    transforms.Resize(size=(224, 224), antialias=True),\n",
        "    transforms_v2.RandomRotation(degrees=(-45, 45)),\n",
        "    transforms_v2.RandomHorizontalFlip(p=0.5),\n",
        "    transforms_v2.ToDtype(torch.float32, scale=True),\n",
        "    transforms_v2.Normalize(mean=[0.5, 0.5, 0.5], std=[0.5, 0.5, 0.5])\n",
        "])\n"
      ],
      "metadata": {
        "id": "YOJQQEe4TiPl"
      },
      "execution_count": 15,
      "outputs": []
    },
    {
      "cell_type": "code",
      "source": [
        "train_dataset = EnvironmentsDataset(train_df, transform=transfs)\n",
        "val_dataset = EnvironmentsDataset(val_df, transform=transfs)\n",
        "test_dataset = EnvironmentsDataset(test_df, transform=transfs)"
      ],
      "metadata": {
        "id": "tCATu3F7K00W"
      },
      "execution_count": 16,
      "outputs": []
    },
    {
      "cell_type": "code",
      "source": [
        "# Para visualizar a imagem normal, comente a ultima linha do Transformer Compose\n",
        "print('This is a ' + train_dataset.class_names[train_dataset[0][1]], end='\\n\\n')\n",
        "transforms.ToPILImage()(train_dataset[0][0])"
      ],
      "metadata": {
        "id": "A-Ww3PZjbWlW",
        "colab": {
          "base_uri": "https://localhost:8080/",
          "height": 276
        },
        "outputId": "abb3b6f0-497e-4e97-a237-0df1fa0a0380"
      },
      "execution_count": 17,
      "outputs": [
        {
          "output_type": "stream",
          "name": "stdout",
          "text": [
            "This is a buildings\n",
            "\n"
          ]
        },
        {
          "output_type": "execute_result",
          "data": {
            "text/plain": [
              "<PIL.Image.Image image mode=RGB size=224x224>"
            ],
            "image/png": "[encoded data removed]"
          },
          "metadata": {},
          "execution_count": 17
        }
      ]
    },
    {
      "cell_type": "markdown",
      "source": [
        "# 4. Model Architecture and Training"
      ],
      "metadata": {
        "id": "3UhZF7wCgCA7"
      }
    },
    {
      "cell_type": "code",
      "source": [
        "BATCH_SIZE = 128\n",
        "NUM_EPOCHS = 5"
      ],
      "metadata": {
        "id": "DtfmOBprLvya"
      },
      "execution_count": 38,
      "outputs": []
    },
    {
      "cell_type": "code",
      "source": [
        "train_loader = DataLoader(train_dataset, batch_size=BATCH_SIZE, shuffle=True, num_workers=4)\n",
        "val_loader = DataLoader(val_dataset, batch_size=BATCH_SIZE, shuffle=False, num_workers=4)\n",
        "#test_loader = DataLoader(test_dataset, batch_size=BATCH_SIZE, shuffle=False)"
      ],
      "metadata": {
        "id": "hc5tCPVegeYH",
        "colab": {
          "base_uri": "https://localhost:8080/"
        },
        "outputId": "54f476bc-9e11-42c8-c191-fcee8b4127cf"
      },
      "execution_count": 19,
      "outputs": [
        {
          "output_type": "stream",
          "name": "stderr",
          "text": [
            "/usr/local/lib/python3.10/dist-packages/torch/utils/data/dataloader.py:557: UserWarning: This DataLoader will create 4 worker processes in total. Our suggested max number of worker in current system is 2, which is smaller than what this DataLoader is going to create. Please be aware that excessive worker creation might get DataLoader running slow or even freeze, lower the worker number to avoid potential slowness/freeze if necessary.\n",
            "  warnings.warn(_create_warning_msg(\n"
          ]
        }
      ]
    },
    {
      "cell_type": "code",
      "source": [
        "# input_layer = Input(shape=(150, 150, 3))\n",
        "\n",
        "# # Convolutional layers\n",
        "# conv1 = Conv2D(16, (3, 3), activation='relu')(input_layer)\n",
        "# maxpool1 = MaxPooling2D((2, 2))(conv1)\n",
        "\n",
        "# conv2 = Conv2D(32, (3, 3), activation='relu')(maxpool1)\n",
        "# maxpool2 = MaxPooling2D((2, 2))(conv2)\n",
        "\n",
        "# # Flatten and fully connected layers\n",
        "# flatten = Flatten()(maxpool2)\n",
        "# dense1 = Dense(128, activation='relu')(flatten)\n",
        "# output_layer = Dense(6, activation='softmax')(dense1)\n",
        "# model = Model(inputs=input_layer, outputs=output_layer)"
      ],
      "metadata": {
        "id": "MEGIvE9Z7XTK"
      },
      "execution_count": 20,
      "outputs": []
    },
    {
      "cell_type": "code",
      "source": [
        "# Mudar o tamanho da imagem e tentar a abordagem acima\n",
        "\n",
        "class EnvClassificationNet(nn.Module):\n",
        "  def __init__(self, num_classes):\n",
        "    super(EnvClassificationNet, self).__init__()\n",
        "    self.conv1 = nn.Conv2d(\n",
        "        in_channels=3, out_channels=16, kernel_size=3, padding=1)\n",
        "    self.conv2 = nn.Conv2d(\n",
        "        in_channels=16, out_channels=16, kernel_size=3, padding=1)\n",
        "\n",
        "    self.conv3 = nn.Conv2d(\n",
        "        in_channels=16, out_channels=32, kernel_size=3, padding=1)\n",
        "    self.conv4 = nn.Conv2d(\n",
        "        in_channels=32, out_channels=32, kernel_size=3, padding=1)\n",
        "\n",
        "    self.conv5 = nn.Conv2d(\n",
        "        in_channels=32, out_channels=64, kernel_size=3, padding=1)\n",
        "    self.conv6 = nn.Conv2d(\n",
        "        in_channels=64, out_channels=64, kernel_size=3, padding=1)\n",
        "    self.conv7 = nn.Conv2d(\n",
        "        in_channels=64, out_channels=64, kernel_size=3, padding=1)\n",
        "\n",
        "    self.maxpool = nn.MaxPool2d(kernel_size=2, stride=2)\n",
        "\n",
        "    self.fc14 = nn.Linear(64*28*28, 500)\n",
        "    self.fc15 = nn.Linear(500, 50)\n",
        "\n",
        "    self.out = nn.Linear(50, num_classes)\n",
        "\n",
        "  def forward(self, x):\n",
        "    x = F.relu(self.conv1(x))\n",
        "    x = F.relu(self.conv2(x))\n",
        "\n",
        "    x = self.maxpool(x)\n",
        "    x = F.relu(self.conv3(x))\n",
        "    x = F.relu(self.conv4(x))\n",
        "\n",
        "    x = self.maxpool(x)\n",
        "    x = F.relu(self.conv5(x))\n",
        "    x = F.relu(self.conv6(x))\n",
        "    x = F.relu(self.conv7(x))\n",
        "\n",
        "    x = self.maxpool(x)\n",
        "\n",
        "    x = x.reshape(x.shape[0], -1)\n",
        "    x = F.relu(self.fc14(x))\n",
        "    x = F.relu(self.fc15(x))\n",
        "    x = F.dropout(x, 0.5)\n",
        "\n",
        "    y_hat = self.out(x)\n",
        "    return y_hat\n"
      ],
      "metadata": {
        "id": "mhb_H43cHwky"
      },
      "execution_count": 21,
      "outputs": []
    },
    {
      "cell_type": "code",
      "source": [
        "# Arquitetura alternativa\n",
        "\n",
        "# model.add(layers.Conv2D(32, (3,3), padding='same', activation='relu', input_shape=(32,32,3)))\n",
        "# model.add(layers.BatchNormalization())\n",
        "# model.add(layers.Conv2D(32, (3,3), padding='same', activation='relu'))\n",
        "# model.add(layers.BatchNormalization())\n",
        "# model.add(layers.MaxPooling2D(pool_size=(2,2)))\n",
        "# model.add(layers.Dropout(0.3))\n",
        "\n",
        "# model.add(layers.Conv2D(64, (3,3), padding='same', activation='relu'))\n",
        "# model.add(layers.BatchNormalization())\n",
        "# model.add(layers.Conv2D(64, (3,3), padding='same', activation='relu'))\n",
        "# model.add(layers.BatchNormalization())\n",
        "# model.add(layers.MaxPooling2D(pool_size=(2,2)))\n",
        "# model.add(layers.Dropout(0.5))\n",
        "\n",
        "# model.add(layers.Conv2D(128, (3,3), padding='same', activation='relu'))\n",
        "# model.add(layers.BatchNormalization())\n",
        "# model.add(layers.Conv2D(128, (3,3), padding='same', activation='relu'))\n",
        "# model.add(layers.BatchNormalization())\n",
        "# model.add(layers.MaxPooling2D(pool_size=(2,2)))\n",
        "# model.add(layers.Dropout(0.5))\n",
        "\n",
        "# model.add(layers.Flatten())\n",
        "# model.add(layers.Dense(128, activation='relu'))\n",
        "# model.add(layers.BatchNormalization())\n",
        "# model.add(layers.Dropout(0.5))\n",
        "# model.add(layers.Dense(10, activation='softmax'))"
      ],
      "metadata": {
        "id": "CNHCIUUWxoFx"
      },
      "execution_count": null,
      "outputs": []
    },
    {
      "cell_type": "code",
      "source": [
        "def calc_val_loss(model, dataloader, loss_function):\n",
        "  with torch.no_grad():\n",
        "    total = .0\n",
        "    for batch in dataloader:\n",
        "      imgs, labels = batch\n",
        "\n",
        "      imgs = imgs.to('cuda')\n",
        "      labels = labels.to('cuda')\n",
        "\n",
        "      total += loss_function(model(imgs), labels).item()\n",
        "\n",
        "    return total / len(dataloader)"
      ],
      "metadata": {
        "id": "2G3P2_LbzR60"
      },
      "execution_count": 61,
      "outputs": []
    },
    {
      "cell_type": "code",
      "source": [
        "def format_time(seconds):\n",
        "    if seconds < 60:\n",
        "        return f'{seconds:.2f}s'\n",
        "    else:\n",
        "        m, s = divmod(seconds, 60)\n",
        "        h, m = divmod(m, 60)\n",
        "\n",
        "        if h <= 0:\n",
        "            return f'{int(m)}m{s:.2f}s'\n",
        "        else:\n",
        "            return f'{h}h{int(m)}m{s:.2f}s'"
      ],
      "metadata": {
        "id": "jn83p9NXhTat"
      },
      "execution_count": 72,
      "outputs": []
    },
    {
      "cell_type": "code",
      "source": [
        "import time\n",
        "import math\n",
        "\n",
        "def optimize(model, train_loader, val_loader, loss_func, optimizer, num_epochs, output_path):\n",
        "  train_losses = []\n",
        "  val_losses = []\n",
        "\n",
        "  for epoch in range(1, num_epochs + 1):\n",
        "    print(f'\\nEpoch {epoch}/{num_epochs + 1}')\n",
        "    start_time = time.time()\n",
        "    total_time = 0\n",
        "\n",
        "    total_loss = .0\n",
        "\n",
        "    for i, batch in enumerate(train_loader):\n",
        "        optimizer.zero_grad()\n",
        "        imgs, labels = batch\n",
        "\n",
        "        imgs = imgs.to('cuda')\n",
        "        labels = labels.to('cuda')\n",
        "\n",
        "        loss = loss_func(model(imgs), labels)\n",
        "        loss.backward()\n",
        "        optimizer.step()\n",
        "\n",
        "        total_loss += loss.item()\n",
        "\n",
        "        iteration_time = time.time() - start_time\n",
        "        total_time += iteration_time\n",
        "\n",
        "        avg_iteration_time = total_time / (i + 1)\n",
        "        remaining_iterations = len(train_loader) - (i + 1)\n",
        "        remaining_time = remaining_iterations * avg_iteration_time\n",
        "\n",
        "        completion_percentage = (i + 1) / len(train_loader) * 100\n",
        "        formatted_completion_percentage = math.floor(completion_percentage / 3.333)\n",
        "\n",
        "        print(f'\\r{i}/{len(train_loader)} [{\"=\"*(formatted_completion_percentage)}{\".\"*(30 - formatted_completion_percentage)}] - {format_time(iteration_time)}/step - Loss: {loss:.6f} - {\"Total Time\" if i+1 == len(train_loader) else \"ETA\"}: {format_time(total_time) if i+1 == len(train_loader) else format_time(remaining_time)}', end='', flush=True)\n",
        "\n",
        "    train_losses.append(total_loss / len(train_loader))\n",
        "    val_losses.append(calc_val_loss(model, val_loader, loss_func))\n",
        "\n",
        "  print('\\nComplete! =)')\n",
        "  torch.save(model.state_dict(), output_path)\n",
        "\n",
        "  return train_losses, test_losses"
      ],
      "metadata": {
        "id": "qakcR3P_npJ4"
      },
      "execution_count": 82,
      "outputs": []
    },
    {
      "cell_type": "code",
      "source": [
        "model = EnvClassificationNet(len(train_dataset.class_names))\n",
        "\n",
        "if torch.cuda.is_available():\n",
        "  model.cuda()"
      ],
      "metadata": {
        "id": "F5u4_NVHKeKB"
      },
      "execution_count": 62,
      "outputs": []
    },
    {
      "cell_type": "code",
      "source": [
        "loss_func = nn.CrossEntropyLoss()\n",
        "optimizer = optim.Adam(model.parameters(), lr=1e-3)"
      ],
      "metadata": {
        "id": "Ug-Hu4CrqIBB"
      },
      "execution_count": 63,
      "outputs": []
    },
    {
      "cell_type": "code",
      "source": [
        "train_losses, test_losses = optimize(model, train_loader, val_loader, loss_func, optimizer, NUM_EPOCHS, 'intel_classification_model.pth')"
      ],
      "metadata": {
        "id": "TR6UZeal4pZv",
        "colab": {
          "base_uri": "https://localhost:8080/",
          "height": 1000
        },
        "outputId": "d0378e74-3778-4e68-b647-995af49ee94b"
      },
      "execution_count": 83,
      "outputs": [
        {
          "output_type": "stream",
          "name": "stdout",
          "text": [
            "\n",
            "Epoch 1/6\n"
          ]
        },
        {
          "output_type": "stream",
          "name": "stderr",
          "text": [
            "/usr/local/lib/python3.10/dist-packages/torch/utils/data/dataloader.py:557: UserWarning: This DataLoader will create 4 worker processes in total. Our suggested max number of worker in current system is 2, which is smaller than what this DataLoader is going to create. Please be aware that excessive worker creation might get DataLoader running slow or even freeze, lower the worker number to avoid potential slowness/freeze if necessary.\n",
            "  warnings.warn(_create_warning_msg(\n"
          ]
        },
        {
          "output_type": "stream",
          "name": "stdout",
          "text": [
            "3/110 [=.............................] - 6.74s/step - Loss: 0.639332 - ETA: 10m38.12s"
          ]
        },
        {
          "output_type": "stream",
          "name": "stderr",
          "text": [
            "Exception ignored in: <function _MultiProcessingDataLoaderIter.__del__ at 0x7f677cbbb760>\n",
            "Traceback (most recent call last):\n",
            "  File \"/usr/local/lib/python3.10/dist-packages/torch/utils/data/dataloader.py\", line 1478, in __del__\n",
            "    self._shutdown_workers()\n",
            "  File \"/usr/local/lib/python3.10/dist-packages/torch/utils/data/dataloader.py\", line 1461, in _shutdown_workers\n",
            "    if w.is_alive():\n",
            "  File \"/usr/lib/python3.10/multiprocessing/process.py\", line 160, in is_alive\n",
            "    assert self._parent_pid == os.getpid(), 'can only test a child process'\n",
            "AssertionError: can only test a child process\n",
            "Exception ignored in: <function _MultiProcessingDataLoaderIter.__del__ at 0x7f677cbbb760>\n",
            "Exception ignored in: Traceback (most recent call last):\n",
            "<function _MultiProcessingDataLoaderIter.__del__ at 0x7f677cbbb760>  File \"/usr/local/lib/python3.10/dist-packages/torch/utils/data/dataloader.py\", line 1478, in __del__\n",
            "    \n",
            "self._shutdown_workers()Traceback (most recent call last):\n",
            "\n",
            "  File \"/usr/local/lib/python3.10/dist-packages/torch/utils/data/dataloader.py\", line 1461, in _shutdown_workers\n",
            "      File \"/usr/local/lib/python3.10/dist-packages/torch/utils/data/dataloader.py\", line 1478, in __del__\n",
            "if w.is_alive():    self._shutdown_workers()\n",
            "  File \"/usr/lib/python3.10/multiprocessing/process.py\", line 160, in is_alive\n",
            "\n",
            "  File \"/usr/local/lib/python3.10/dist-packages/torch/utils/data/dataloader.py\", line 1461, in _shutdown_workers\n",
            "        if w.is_alive():\n",
            "assert self._parent_pid == os.getpid(), 'can only test a child process'\n",
            "AssertionError  File \"/usr/lib/python3.10/multiprocessing/process.py\", line 160, in is_alive\n",
            "    assert self._parent_pid == os.getpid(), 'can only test a child process': \n",
            "can only test a child process\n",
            "AssertionError: Exception ignored in: can only test a child process<function _MultiProcessingDataLoaderIter.__del__ at 0x7f677cbbb760>\n",
            "\n",
            "Traceback (most recent call last):\n",
            "  File \"/usr/local/lib/python3.10/dist-packages/torch/utils/data/dataloader.py\", line 1478, in __del__\n",
            "    self._shutdown_workers()\n",
            "Exception ignored in:   File \"/usr/local/lib/python3.10/dist-packages/torch/utils/data/dataloader.py\", line 1461, in _shutdown_workers\n",
            "    if w.is_alive():\n",
            "  File \"/usr/lib/python3.10/multiprocessing/process.py\", line 160, in is_alive\n",
            "<function _MultiProcessingDataLoaderIter.__del__ at 0x7f677cbbb760>\n",
            "    assert self._parent_pid == os.getpid(), 'can only test a child process'\n",
            "AssertionError: can only test a child process\n",
            "Traceback (most recent call last):\n",
            "  File \"/usr/local/lib/python3.10/dist-packages/torch/utils/data/dataloader.py\", line 1478, in __del__\n",
            "Exception ignored in:     <function _MultiProcessingDataLoaderIter.__del__ at 0x7f677cbbb760>Exception ignored in: <function _MultiProcessingDataLoaderIter.__del__ at 0x7f677cbbb760>self._shutdown_workers()\n",
            "\n",
            "\n",
            "  File \"/usr/local/lib/python3.10/dist-packages/torch/utils/data/dataloader.py\", line 1461, in _shutdown_workers\n",
            "Traceback (most recent call last):\n",
            "Traceback (most recent call last):\n",
            "  File \"/usr/local/lib/python3.10/dist-packages/torch/utils/data/dataloader.py\", line 1478, in __del__\n",
            "  File \"/usr/local/lib/python3.10/dist-packages/torch/utils/data/dataloader.py\", line 1478, in __del__\n",
            "            if w.is_alive():self._shutdown_workers()self._shutdown_workers()\n",
            "\n",
            "\n",
            "  File \"/usr/lib/python3.10/multiprocessing/process.py\", line 160, in is_alive\n",
            "  File \"/usr/local/lib/python3.10/dist-packages/torch/utils/data/dataloader.py\", line 1461, in _shutdown_workers\n",
            "  File \"/usr/local/lib/python3.10/dist-packages/torch/utils/data/dataloader.py\", line 1461, in _shutdown_workers\n",
            "            if w.is_alive():if w.is_alive():\n",
            "\n",
            "  File \"/usr/lib/python3.10/multiprocessing/process.py\", line 160, in is_alive\n",
            "assert self._parent_pid == os.getpid(), 'can only test a child process'\n",
            "  File \"/usr/lib/python3.10/multiprocessing/process.py\", line 160, in is_alive\n",
            "    AssertionError    assert self._parent_pid == os.getpid(), 'can only test a child process'assert self._parent_pid == os.getpid(), 'can only test a child process'\n",
            "\n",
            ": can only test a child process\n",
            "AssertionErrorAssertionErrorcan only test a child process: : can only test a child process\n",
            "\n",
            "Exception ignored in: <function _MultiProcessingDataLoaderIter.__del__ at 0x7f677cbbb760>\n",
            "Traceback (most recent call last):\n",
            "  File \"/usr/local/lib/python3.10/dist-packages/torch/utils/data/dataloader.py\", line 1478, in __del__\n",
            "    self._shutdown_workers()\n",
            "  File \"/usr/local/lib/python3.10/dist-packages/torch/utils/data/dataloader.py\", line 1461, in _shutdown_workers\n",
            "    if w.is_alive():\n",
            "  File \"/usr/lib/python3.10/multiprocessing/process.py\", line 160, in is_alive\n",
            "Exception ignored in: <function _MultiProcessingDataLoaderIter.__del__ at 0x7f677cbbb760>\n",
            "Traceback (most recent call last):\n",
            "  File \"/usr/local/lib/python3.10/dist-packages/torch/utils/data/dataloader.py\", line 1478, in __del__\n",
            "    self._shutdown_workers()\n",
            "  File \"/usr/local/lib/python3.10/dist-packages/torch/utils/data/dataloader.py\", line 1461, in _shutdown_workers\n",
            "        if w.is_alive():assert self._parent_pid == os.getpid(), 'can only test a child process'\n",
            "\n",
            "  File \"/usr/lib/python3.10/multiprocessing/process.py\", line 160, in is_alive\n",
            "AssertionError    : assert self._parent_pid == os.getpid(), 'can only test a child process'can only test a child process\n",
            "\n",
            "AssertionError: can only test a child process\n",
            "Exception ignored in: Exception ignored in: <function _MultiProcessingDataLoaderIter.__del__ at 0x7f677cbbb760><function _MultiProcessingDataLoaderIter.__del__ at 0x7f677cbbb760>\n",
            "\n",
            "Traceback (most recent call last):\n",
            "  File \"/usr/local/lib/python3.10/dist-packages/torch/utils/data/dataloader.py\", line 1478, in __del__\n",
            "    self._shutdown_workers()\n",
            "Traceback (most recent call last):\n",
            "  File \"/usr/local/lib/python3.10/dist-packages/torch/utils/data/dataloader.py\", line 1461, in _shutdown_workers\n",
            "  File \"/usr/local/lib/python3.10/dist-packages/torch/utils/data/dataloader.py\", line 1478, in __del__\n",
            "        if w.is_alive():\n",
            "  File \"/usr/lib/python3.10/multiprocessing/process.py\", line 160, in is_alive\n",
            "    assert self._parent_pid == os.getpid(), 'can only test a child process'self._shutdown_workers()\n",
            "\n",
            "AssertionError  File \"/usr/local/lib/python3.10/dist-packages/torch/utils/data/dataloader.py\", line 1461, in _shutdown_workers\n",
            ": can only test a child process\n",
            "    if w.is_alive():\n",
            "  File \"/usr/lib/python3.10/multiprocessing/process.py\", line 160, in is_alive\n",
            "    assert self._parent_pid == os.getpid(), 'can only test a child process'\n",
            "AssertionError: can only test a child process\n",
            "Exception ignored in: <function _MultiProcessingDataLoaderIter.__del__ at 0x7f677cbbb760>\n",
            "Traceback (most recent call last):\n",
            "  File \"/usr/local/lib/python3.10/dist-packages/torch/utils/data/dataloader.py\", line 1478, in __del__\n",
            "    self._shutdown_workers()\n",
            "  File \"/usr/local/lib/python3.10/dist-packages/torch/utils/data/dataloader.py\", line 1461, in _shutdown_workers\n",
            "    if w.is_alive():\n",
            "  File \"/usr/lib/python3.10/multiprocessing/process.py\", line 160, in is_alive\n",
            "    assert self._parent_pid == os.getpid(), 'can only test a child process'\n",
            "AssertionError: can only test a child process\n"
          ]
        },
        {
          "output_type": "stream",
          "name": "stdout",
          "text": [
            "109/110 [==============================] - 1m37.94s/step - Loss: 0.611538 - Total Time: 1.0h34m52.28s"
          ]
        },
        {
          "output_type": "stream",
          "name": "stderr",
          "text": [
            "Exception ignored in: <function _MultiProcessingDataLoaderIter.__del__ at 0x7f677cbbb760>\n",
            "Traceback (most recent call last):\n",
            "  File \"/usr/local/lib/python3.10/dist-packages/torch/utils/data/dataloader.py\", line 1478, in __del__\n",
            "    self._shutdown_workers()\n",
            "  File \"/usr/local/lib/python3.10/dist-packages/torch/utils/data/dataloader.py\", line 1461, in _shutdown_workers\n",
            "    if w.is_alive():\n",
            "  File \"/usr/lib/python3.10/multiprocessing/process.py\", line 160, in is_alive\n",
            "    assert self._parent_pid == os.getpid(), 'can only test a child process'\n",
            "AssertionError: can only test a child process\n",
            "Exception ignored in: <function _MultiProcessingDataLoaderIter.__del__ at 0x7f677cbbb760>\n",
            "Traceback (most recent call last):\n",
            "  File \"/usr/local/lib/python3.10/dist-packages/torch/utils/data/dataloader.py\", line 1478, in __del__\n",
            "    self._shutdown_workers()\n",
            "  File \"/usr/local/lib/python3.10/dist-packages/torch/utils/data/dataloader.py\", line 1461, in _shutdown_workers\n",
            "    if w.is_alive():\n",
            "  File \"/usr/lib/python3.10/multiprocessing/process.py\", line 160, in is_alive\n",
            "    assert self._parent_pid == os.getpid(), 'can only test a child process'\n",
            "AssertionError: can only test a child process\n",
            "Exception ignored in: <function _MultiProcessingDataLoaderIter.__del__ at 0x7f677cbbb760>Exception ignored in: \n",
            "<function _MultiProcessingDataLoaderIter.__del__ at 0x7f677cbbb760>Traceback (most recent call last):\n",
            "\n",
            "  File \"/usr/local/lib/python3.10/dist-packages/torch/utils/data/dataloader.py\", line 1478, in __del__\n",
            "Traceback (most recent call last):\n",
            "      File \"/usr/local/lib/python3.10/dist-packages/torch/utils/data/dataloader.py\", line 1478, in __del__\n",
            "    self._shutdown_workers()self._shutdown_workers()\n",
            "\n",
            "  File \"/usr/local/lib/python3.10/dist-packages/torch/utils/data/dataloader.py\", line 1461, in _shutdown_workers\n",
            "      File \"/usr/local/lib/python3.10/dist-packages/torch/utils/data/dataloader.py\", line 1461, in _shutdown_workers\n",
            "if w.is_alive():    if w.is_alive():Exception ignored in: \n",
            "\n",
            "\n",
            "assert self._parent_pid == os.getpid(), 'can only test a child process'<function _MultiProcessingDataLoaderIter.__del__ at 0x7f677cbbb760>  File \"/usr/lib/python3.10/multiprocessing/process.py\", line 160, in is_alive\n",
            "    Traceback (most recent call last):\n",
            "  File \"/usr/lib/python3.10/multiprocessing/process.py\", line 160, in is_alive\n",
            "\n",
            "    AssertionErrorassert self._parent_pid == os.getpid(), 'can only test a child process'  File \"/usr/local/lib/python3.10/dist-packages/torch/utils/data/dataloader.py\", line 1478, in __del__\n",
            ": \n",
            "can only test a child processAssertionError\n",
            ":     self._shutdown_workers()can only test a child process\n",
            "\n",
            "  File \"/usr/local/lib/python3.10/dist-packages/torch/utils/data/dataloader.py\", line 1461, in _shutdown_workers\n",
            "Exception ignored in:     if w.is_alive():\n",
            "  File \"/usr/lib/python3.10/multiprocessing/process.py\", line 160, in is_alive\n",
            "    assert self._parent_pid == os.getpid(), 'can only test a child process'<function _MultiProcessingDataLoaderIter.__del__ at 0x7f677cbbb760>\n",
            "\n",
            "Exception ignored in: AssertionError: <function _MultiProcessingDataLoaderIter.__del__ at 0x7f677cbbb760>can only test a child processTraceback (most recent call last):\n",
            "\n",
            "  File \"/usr/local/lib/python3.10/dist-packages/torch/utils/data/dataloader.py\", line 1478, in __del__\n",
            "    Traceback (most recent call last):\n",
            "\n",
            "  File \"/usr/local/lib/python3.10/dist-packages/torch/utils/data/dataloader.py\", line 1478, in __del__\n",
            "    self._shutdown_workers()\n",
            "Exception ignored in:   File \"/usr/local/lib/python3.10/dist-packages/torch/utils/data/dataloader.py\", line 1461, in _shutdown_workers\n",
            "<function _MultiProcessingDataLoaderIter.__del__ at 0x7f677cbbb760>\n",
            "    self._shutdown_workers()if w.is_alive():Traceback (most recent call last):\n",
            "  File \"/usr/local/lib/python3.10/dist-packages/torch/utils/data/dataloader.py\", line 1478, in __del__\n",
            "\n",
            "\n",
            "  File \"/usr/local/lib/python3.10/dist-packages/torch/utils/data/dataloader.py\", line 1461, in _shutdown_workers\n",
            "  File \"/usr/lib/python3.10/multiprocessing/process.py\", line 160, in is_alive\n",
            "            self._shutdown_workers()assert self._parent_pid == os.getpid(), 'can only test a child process'\n",
            "\n",
            "AssertionError  File \"/usr/local/lib/python3.10/dist-packages/torch/utils/data/dataloader.py\", line 1461, in _shutdown_workers\n",
            ": if w.is_alive():\n",
            "    can only test a child process  File \"/usr/lib/python3.10/multiprocessing/process.py\", line 160, in is_alive\n",
            "\n",
            "    assert self._parent_pid == os.getpid(), 'can only test a child process'\n",
            "AssertionError: if w.is_alive():can only test a child process\n",
            "Exception ignored in: Exception ignored in: \n",
            "<function _MultiProcessingDataLoaderIter.__del__ at 0x7f677cbbb760><function _MultiProcessingDataLoaderIter.__del__ at 0x7f677cbbb760>  File \"/usr/lib/python3.10/multiprocessing/process.py\", line 160, in is_alive\n",
            "\n",
            "Traceback (most recent call last):\n",
            "  File \"/usr/local/lib/python3.10/dist-packages/torch/utils/data/dataloader.py\", line 1478, in __del__\n",
            "\n",
            "Traceback (most recent call last):\n",
            "          File \"/usr/local/lib/python3.10/dist-packages/torch/utils/data/dataloader.py\", line 1478, in __del__\n",
            "self._shutdown_workers()assert self._parent_pid == os.getpid(), 'can only test a child process'    \n",
            "\n",
            "self._shutdown_workers()  File \"/usr/local/lib/python3.10/dist-packages/torch/utils/data/dataloader.py\", line 1461, in _shutdown_workers\n",
            "AssertionError\n",
            "    :   File \"/usr/local/lib/python3.10/dist-packages/torch/utils/data/dataloader.py\", line 1461, in _shutdown_workers\n",
            "if w.is_alive():can only test a child process    \n",
            "\n",
            "if w.is_alive():  File \"/usr/lib/python3.10/multiprocessing/process.py\", line 160, in is_alive\n",
            "\n",
            "      File \"/usr/lib/python3.10/multiprocessing/process.py\", line 160, in is_alive\n",
            "assert self._parent_pid == os.getpid(), 'can only test a child process'    \n",
            "Exception ignored in: assert self._parent_pid == os.getpid(), 'can only test a child process'AssertionError<function _MultiProcessingDataLoaderIter.__del__ at 0x7f677cbbb760>\n",
            ": \n",
            "AssertionErrorcan only test a child processTraceback (most recent call last):\n",
            ": \n",
            "  File \"/usr/local/lib/python3.10/dist-packages/torch/utils/data/dataloader.py\", line 1478, in __del__\n",
            "can only test a child process    \n",
            "Exception ignored in: <function _MultiProcessingDataLoaderIter.__del__ at 0x7f677cbbb760>self._shutdown_workers()\n",
            "\n",
            "Traceback (most recent call last):\n",
            "  File \"/usr/local/lib/python3.10/dist-packages/torch/utils/data/dataloader.py\", line 1461, in _shutdown_workers\n",
            "  File \"/usr/local/lib/python3.10/dist-packages/torch/utils/data/dataloader.py\", line 1478, in __del__\n",
            "        if w.is_alive():self._shutdown_workers()\n",
            "\n",
            "  File \"/usr/local/lib/python3.10/dist-packages/torch/utils/data/dataloader.py\", line 1461, in _shutdown_workers\n",
            "    if w.is_alive():  File \"/usr/lib/python3.10/multiprocessing/process.py\", line 160, in is_alive\n",
            "\n",
            "      File \"/usr/lib/python3.10/multiprocessing/process.py\", line 160, in is_alive\n",
            "    assert self._parent_pid == os.getpid(), 'can only test a child process'assert self._parent_pid == os.getpid(), 'can only test a child process'\n",
            "AssertionError\n",
            ": AssertionErrorcan only test a child process\n",
            ": can only test a child process\n"
          ]
        },
        {
          "output_type": "stream",
          "name": "stdout",
          "text": [
            "\n",
            "Epoch 2/6\n"
          ]
        },
        {
          "output_type": "stream",
          "name": "stderr",
          "text": [
            "Exception ignored in: <function _MultiProcessingDataLoaderIter.__del__ at 0x7f677cbbb760>\n",
            "Traceback (most recent call last):\n",
            "  File \"/usr/local/lib/python3.10/dist-packages/torch/utils/data/dataloader.py\", line 1478, in __del__\n",
            "    self._shutdown_workers()\n",
            "  File \"/usr/local/lib/python3.10/dist-packages/torch/utils/data/dataloader.py\", line 1461, in _shutdown_workers\n",
            "    if w.is_alive():\n",
            "  File \"/usr/lib/python3.10/multiprocessing/process.py\", line 160, in is_alive\n",
            "    assert self._parent_pid == os.getpid(), 'can only test a child process'\n",
            "AssertionError: can only test a child process\n",
            "Exception ignored in: <function _MultiProcessingDataLoaderIter.__del__ at 0x7f677cbbb760>\n",
            "Traceback (most recent call last):\n",
            "  File \"/usr/local/lib/python3.10/dist-packages/torch/utils/data/dataloader.py\", line 1478, in __del__\n",
            "    self._shutdown_workers()\n",
            "  File \"/usr/local/lib/python3.10/dist-packages/torch/utils/data/dataloader.py\", line 1461, in _shutdown_workers\n",
            "    if w.is_alive():\n",
            "  File \"/usr/lib/python3.10/multiprocessing/process.py\", line 160, in is_alive\n",
            "    assert self._parent_pid == os.getpid(), 'can only test a child process'\n",
            "AssertionError: Exception ignored in: <function _MultiProcessingDataLoaderIter.__del__ at 0x7f677cbbb760>can only test a child process\n",
            "\n",
            "Exception ignored in: <function _MultiProcessingDataLoaderIter.__del__ at 0x7f677cbbb760>\n",
            "Traceback (most recent call last):\n",
            "  File \"/usr/local/lib/python3.10/dist-packages/torch/utils/data/dataloader.py\", line 1478, in __del__\n",
            "    Traceback (most recent call last):\n",
            "self._shutdown_workers()  File \"/usr/local/lib/python3.10/dist-packages/torch/utils/data/dataloader.py\", line 1478, in __del__\n",
            "    \n",
            "self._shutdown_workers()\n",
            "  File \"/usr/local/lib/python3.10/dist-packages/torch/utils/data/dataloader.py\", line 1461, in _shutdown_workers\n",
            "    if w.is_alive():  File \"/usr/local/lib/python3.10/dist-packages/torch/utils/data/dataloader.py\", line 1461, in _shutdown_workers\n",
            "    \n",
            "  File \"/usr/lib/python3.10/multiprocessing/process.py\", line 160, in is_alive\n",
            "    assert self._parent_pid == os.getpid(), 'can only test a child process'\n",
            "AssertionError: can only test a child process\n",
            "Exception ignored in: <function _MultiProcessingDataLoaderIter.__del__ at 0x7f677cbbb760>\n",
            "Traceback (most recent call last):\n",
            "  File \"/usr/local/lib/python3.10/dist-packages/torch/utils/data/dataloader.py\", line 1478, in __del__\n",
            "if w.is_alive():    \n",
            "self._shutdown_workers()  File \"/usr/lib/python3.10/multiprocessing/process.py\", line 160, in is_alive\n",
            "\n",
            "      File \"/usr/local/lib/python3.10/dist-packages/torch/utils/data/dataloader.py\", line 1461, in _shutdown_workers\n",
            "    if w.is_alive():\n",
            "  File \"/usr/lib/python3.10/multiprocessing/process.py\", line 160, in is_alive\n",
            "    assert self._parent_pid == os.getpid(), 'can only test a child process'\n",
            "AssertionError: assert self._parent_pid == os.getpid(), 'can only test a child process'\n",
            "can only test a child process\n",
            "AssertionError: can only test a child processException ignored in: \n",
            "<function _MultiProcessingDataLoaderIter.__del__ at 0x7f677cbbb760>\n",
            "Traceback (most recent call last):\n",
            "  File \"/usr/local/lib/python3.10/dist-packages/torch/utils/data/dataloader.py\", line 1478, in __del__\n",
            "    self._shutdown_workers()\n",
            "  File \"/usr/local/lib/python3.10/dist-packages/torch/utils/data/dataloader.py\", line 1461, in _shutdown_workers\n",
            "    if w.is_alive():\n",
            "  File \"/usr/lib/python3.10/multiprocessing/process.py\", line 160, in is_alive\n",
            "    assert self._parent_pid == os.getpid(), 'can only test a child process'\n",
            "AssertionError: can only test a child process\n",
            "Exception ignored in: Exception ignored in: <function _MultiProcessingDataLoaderIter.__del__ at 0x7f677cbbb760><function _MultiProcessingDataLoaderIter.__del__ at 0x7f677cbbb760>\n",
            "Traceback (most recent call last):\n",
            "  File \"/usr/local/lib/python3.10/dist-packages/torch/utils/data/dataloader.py\", line 1478, in __del__\n",
            "\n",
            "    Traceback (most recent call last):\n",
            "self._shutdown_workers()  File \"/usr/local/lib/python3.10/dist-packages/torch/utils/data/dataloader.py\", line 1478, in __del__\n",
            "\n",
            "    self._shutdown_workers()  File \"/usr/local/lib/python3.10/dist-packages/torch/utils/data/dataloader.py\", line 1461, in _shutdown_workers\n",
            "\n",
            "      File \"/usr/local/lib/python3.10/dist-packages/torch/utils/data/dataloader.py\", line 1461, in _shutdown_workers\n",
            "if w.is_alive():    \n",
            "if w.is_alive():  File \"/usr/lib/python3.10/multiprocessing/process.py\", line 160, in is_alive\n",
            "\n",
            "    assert self._parent_pid == os.getpid(), 'can only test a child process'\n",
            "AssertionError: can only test a child process\n",
            "Exception ignored in: <function _MultiProcessingDataLoaderIter.__del__ at 0x7f677cbbb760>\n",
            "Traceback (most recent call last):\n",
            "  File \"/usr/local/lib/python3.10/dist-packages/torch/utils/data/dataloader.py\", line 1478, in __del__\n",
            "    self._shutdown_workers()\n",
            "  File \"/usr/local/lib/python3.10/dist-packages/torch/utils/data/dataloader.py\", line 1461, in _shutdown_workers\n",
            "    if w.is_alive():\n",
            "  File \"/usr/lib/python3.10/multiprocessing/process.py\", line 160, in is_alive\n",
            "    assert self._parent_pid == os.getpid(), 'can only test a child process'  File \"/usr/lib/python3.10/multiprocessing/process.py\", line 160, in is_alive\n",
            "    assert self._parent_pid == os.getpid(), 'can only test a child process'\n",
            "AssertionError: can only test a child process\n",
            "Exception ignored in: <function _MultiProcessingDataLoaderIter.__del__ at 0x7f677cbbb760>\n",
            "Traceback (most recent call last):\n",
            "  File \"/usr/local/lib/python3.10/dist-packages/torch/utils/data/dataloader.py\", line 1478, in __del__\n",
            "    self._shutdown_workers()\n",
            "  File \"/usr/local/lib/python3.10/dist-packages/torch/utils/data/dataloader.py\", line 1461, in _shutdown_workers\n",
            "    \n",
            "AssertionErrorif w.is_alive():\n",
            ":   File \"/usr/lib/python3.10/multiprocessing/process.py\", line 160, in is_alive\n",
            "can only test a child process    \n",
            "assert self._parent_pid == os.getpid(), 'can only test a child process'\n",
            "Exception ignored in: <function _MultiProcessingDataLoaderIter.__del__ at 0x7f677cbbb760>\n",
            "AssertionError: Traceback (most recent call last):\n",
            "  File \"/usr/local/lib/python3.10/dist-packages/torch/utils/data/dataloader.py\", line 1478, in __del__\n",
            "can only test a child process\n",
            "    self._shutdown_workers()\n",
            "  File \"/usr/local/lib/python3.10/dist-packages/torch/utils/data/dataloader.py\", line 1461, in _shutdown_workers\n",
            "    if w.is_alive():\n",
            "  File \"/usr/lib/python3.10/multiprocessing/process.py\", line 160, in is_alive\n",
            "    assert self._parent_pid == os.getpid(), 'can only test a child process'\n",
            "AssertionError: can only test a child process\n",
            "Exception ignored in: <function _MultiProcessingDataLoaderIter.__del__ at 0x7f677cbbb760>\n",
            "Traceback (most recent call last):\n",
            "  File \"/usr/local/lib/python3.10/dist-packages/torch/utils/data/dataloader.py\", line 1478, in __del__\n",
            "    self._shutdown_workers()\n",
            "  File \"/usr/local/lib/python3.10/dist-packages/torch/utils/data/dataloader.py\", line 1461, in _shutdown_workers\n",
            "    if w.is_alive():\n",
            "  File \"/usr/lib/python3.10/multiprocessing/process.py\", line 160, in is_alive\n",
            "    assert self._parent_pid == os.getpid(), 'can only test a child process'\n",
            "AssertionError: can only test a child process\n"
          ]
        },
        {
          "output_type": "stream",
          "name": "stdout",
          "text": [
            "109/110 [==============================] - 1m34.53s/step - Loss: 0.728267 - Total Time: 1.0h32m2.68s\n",
            "Epoch 3/6\n",
            "109/110 [==============================] - 1m35.02s/step - Loss: 0.439969 - Total Time: 1.0h31m44.51s\n",
            "Epoch 4/6\n",
            "109/110 [==============================] - 1m36.08s/step - Loss: 0.560857 - Total Time: 1.0h32m44.39s\n",
            "Epoch 5/6\n",
            "109/110 [==============================] - 1m35.69s/step - Loss: 0.528394 - Total Time: 1.0h31m47.45sComplete! =)\n"
          ]
        },
        {
          "output_type": "error",
          "ename": "NameError",
          "evalue": "ignored",
          "traceback": [
            "\u001b[0;31m---------------------------------------------------------------------------\u001b[0m",
            "\u001b[0;31mNameError\u001b[0m                                 Traceback (most recent call last)",
            "\u001b[0;32m<ipython-input-83-aec04cf5ac8b>\u001b[0m in \u001b[0;36m<cell line: 1>\u001b[0;34m()\u001b[0m\n\u001b[0;32m----> 1\u001b[0;31m \u001b[0mtrain_losses\u001b[0m\u001b[0;34m,\u001b[0m \u001b[0mtest_losses\u001b[0m \u001b[0;34m=\u001b[0m \u001b[0moptimize\u001b[0m\u001b[0;34m(\u001b[0m\u001b[0mmodel\u001b[0m\u001b[0;34m,\u001b[0m \u001b[0mtrain_loader\u001b[0m\u001b[0;34m,\u001b[0m \u001b[0mval_loader\u001b[0m\u001b[0;34m,\u001b[0m \u001b[0mloss_func\u001b[0m\u001b[0;34m,\u001b[0m \u001b[0moptimizer\u001b[0m\u001b[0;34m,\u001b[0m \u001b[0mNUM_EPOCHS\u001b[0m\u001b[0;34m,\u001b[0m \u001b[0;34m'intel_classification_model.pth'\u001b[0m\u001b[0;34m)\u001b[0m\u001b[0;34m\u001b[0m\u001b[0;34m\u001b[0m\u001b[0m\n\u001b[0m",
            "\u001b[0;32m<ipython-input-82-1388d10f9b37>\u001b[0m in \u001b[0;36moptimize\u001b[0;34m(model, train_loader, val_loader, loss_func, optimizer, num_epochs, output_path)\u001b[0m\n\u001b[1;32m     44\u001b[0m   \u001b[0mtorch\u001b[0m\u001b[0;34m.\u001b[0m\u001b[0msave\u001b[0m\u001b[0;34m(\u001b[0m\u001b[0mmodel\u001b[0m\u001b[0;34m.\u001b[0m\u001b[0mstate_dict\u001b[0m\u001b[0;34m(\u001b[0m\u001b[0;34m)\u001b[0m\u001b[0;34m,\u001b[0m \u001b[0moutput_path\u001b[0m\u001b[0;34m)\u001b[0m\u001b[0;34m\u001b[0m\u001b[0;34m\u001b[0m\u001b[0m\n\u001b[1;32m     45\u001b[0m \u001b[0;34m\u001b[0m\u001b[0m\n\u001b[0;32m---> 46\u001b[0;31m   \u001b[0;32mreturn\u001b[0m \u001b[0mtrain_losses\u001b[0m\u001b[0;34m,\u001b[0m \u001b[0mtest_losses\u001b[0m\u001b[0;34m\u001b[0m\u001b[0;34m\u001b[0m\u001b[0m\n\u001b[0m",
            "\u001b[0;31mNameError\u001b[0m: name 'test_losses' is not defined"
          ]
        }
      ]
    },
    {
      "cell_type": "markdown",
      "source": [
        "# 5. Model Evaluation"
      ],
      "metadata": {
        "id": "q7IJPTjqgIiI"
      }
    },
    {
      "cell_type": "code",
      "source": [
        "plt.figure(figsize=(8, 5))\n",
        "plt.plot(range(1, NUM_EPOCHS + 1), train_losses, marker='o', linestyle='-', color='b')\n",
        "plt.plot(range(1, NUM_EPOCHS + 1), test_losses, marker='x', linestyle='-', color='g')\n",
        "\n",
        "plt.title('Learning Curve')\n",
        "plt.xlabel('Epochs')\n",
        "plt.ylabel('Average Loss')\n",
        "plt.show()"
      ],
      "metadata": {
        "id": "Nnvoe21hodDk",
        "colab": {
          "base_uri": "https://localhost:8080/",
          "height": 262
        },
        "outputId": "f4b73f45-6f84-4a46-e094-738db26e92a4"
      },
      "execution_count": 84,
      "outputs": [
        {
          "output_type": "error",
          "ename": "NameError",
          "evalue": "ignored",
          "traceback": [
            "\u001b[0;31m---------------------------------------------------------------------------\u001b[0m",
            "\u001b[0;31mNameError\u001b[0m                                 Traceback (most recent call last)",
            "\u001b[0;32m<ipython-input-84-612a2c6f5be7>\u001b[0m in \u001b[0;36m<cell line: 2>\u001b[0;34m()\u001b[0m\n\u001b[1;32m      1\u001b[0m \u001b[0mplt\u001b[0m\u001b[0;34m.\u001b[0m\u001b[0mfigure\u001b[0m\u001b[0;34m(\u001b[0m\u001b[0mfigsize\u001b[0m\u001b[0;34m=\u001b[0m\u001b[0;34m(\u001b[0m\u001b[0;36m8\u001b[0m\u001b[0;34m,\u001b[0m \u001b[0;36m5\u001b[0m\u001b[0;34m)\u001b[0m\u001b[0;34m)\u001b[0m\u001b[0;34m\u001b[0m\u001b[0;34m\u001b[0m\u001b[0m\n\u001b[0;32m----> 2\u001b[0;31m \u001b[0mplt\u001b[0m\u001b[0;34m.\u001b[0m\u001b[0mplot\u001b[0m\u001b[0;34m(\u001b[0m\u001b[0mrange\u001b[0m\u001b[0;34m(\u001b[0m\u001b[0;36m1\u001b[0m\u001b[0;34m,\u001b[0m \u001b[0mNUM_EPOCHS\u001b[0m \u001b[0;34m+\u001b[0m \u001b[0;36m1\u001b[0m\u001b[0;34m)\u001b[0m\u001b[0;34m,\u001b[0m \u001b[0mtrain_losses\u001b[0m\u001b[0;34m,\u001b[0m \u001b[0mmarker\u001b[0m\u001b[0;34m=\u001b[0m\u001b[0;34m'o'\u001b[0m\u001b[0;34m,\u001b[0m \u001b[0mlinestyle\u001b[0m\u001b[0;34m=\u001b[0m\u001b[0;34m'-'\u001b[0m\u001b[0;34m,\u001b[0m \u001b[0mcolor\u001b[0m\u001b[0;34m=\u001b[0m\u001b[0;34m'b'\u001b[0m\u001b[0;34m)\u001b[0m\u001b[0;34m\u001b[0m\u001b[0;34m\u001b[0m\u001b[0m\n\u001b[0m\u001b[1;32m      3\u001b[0m \u001b[0mplt\u001b[0m\u001b[0;34m.\u001b[0m\u001b[0mplot\u001b[0m\u001b[0;34m(\u001b[0m\u001b[0mrange\u001b[0m\u001b[0;34m(\u001b[0m\u001b[0;36m1\u001b[0m\u001b[0;34m,\u001b[0m \u001b[0mNUM_EPOCHS\u001b[0m \u001b[0;34m+\u001b[0m \u001b[0;36m1\u001b[0m\u001b[0;34m)\u001b[0m\u001b[0;34m,\u001b[0m \u001b[0mtest_losses\u001b[0m\u001b[0;34m,\u001b[0m \u001b[0mmarker\u001b[0m\u001b[0;34m=\u001b[0m\u001b[0;34m'x'\u001b[0m\u001b[0;34m,\u001b[0m \u001b[0mlinestyle\u001b[0m\u001b[0;34m=\u001b[0m\u001b[0;34m'-'\u001b[0m\u001b[0;34m,\u001b[0m \u001b[0mcolor\u001b[0m\u001b[0;34m=\u001b[0m\u001b[0;34m'g'\u001b[0m\u001b[0;34m)\u001b[0m\u001b[0;34m\u001b[0m\u001b[0;34m\u001b[0m\u001b[0m\n\u001b[1;32m      4\u001b[0m \u001b[0;34m\u001b[0m\u001b[0m\n\u001b[1;32m      5\u001b[0m \u001b[0mplt\u001b[0m\u001b[0;34m.\u001b[0m\u001b[0mtitle\u001b[0m\u001b[0;34m(\u001b[0m\u001b[0;34m'Learning Curve'\u001b[0m\u001b[0;34m)\u001b[0m\u001b[0;34m\u001b[0m\u001b[0;34m\u001b[0m\u001b[0m\n",
            "\u001b[0;31mNameError\u001b[0m: name 'train_losses' is not defined"
          ]
        },
        {
          "output_type": "display_data",
          "data": {
            "text/plain": [
              "<Figure size 800x500 with 0 Axes>"
            ]
          },
          "metadata": {}
        }
      ]
    }
  ]
}