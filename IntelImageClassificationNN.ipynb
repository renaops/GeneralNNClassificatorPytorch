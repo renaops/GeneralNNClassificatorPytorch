{
  "nbformat": 4,
  "nbformat_minor": 0,
  "metadata": {
    "colab": {
      "provenance": [],
      "authorship_tag": "ABX9TyMB82BedAKVhwP+Z4+31fbF",
      "include_colab_link": true
    },
    "kernelspec": {
      "name": "python3",
      "display_name": "Python 3"
    },
    "language_info": {
      "name": "python"
    }
  },
  "cells": [
    {
      "cell_type": "markdown",
      "metadata": {
        "id": "view-in-github",
        "colab_type": "text"
      },
      "source": [
        "<a href=\"https://colab.research.google.com/github/renaops/IntelImageClassificationNN/blob/main/IntelImageClassificationNN.ipynb\" target=\"_parent\"><img src=\"https://colab.research.google.com/assets/colab-badge.svg\" alt=\"Open In Colab\"/></a>"
      ]
    },
    {
      "cell_type": "markdown",
      "source": [
        "## A neural network for classifying image data of natural scenes from around the world"
      ],
      "metadata": {
        "id": "amQm5LaGLTI-"
      }
    },
    {
      "cell_type": "markdown",
      "source": [
        "Source dataset: https://www.kaggle.com/datasets/puneet6060/intel-image-classification/data\n",
        "\n",
        "Code repo: https://github.com/renaops/IntelImageClassificationNN"
      ],
      "metadata": {
        "id": "jYbyVo1HLYAd"
      }
    }
  ]
}